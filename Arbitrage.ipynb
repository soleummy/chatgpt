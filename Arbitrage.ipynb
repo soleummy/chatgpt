{
  "cells": [
    {
      "cell_type": "markdown",
      "metadata": {
        "id": "view-in-github",
        "colab_type": "text"
      },
      "source": [
        "<a href=\"https://colab.research.google.com/github/soleummy/chatgpt/blob/master/Arbitrage.ipynb\" target=\"_parent\"><img src=\"https://colab.research.google.com/assets/colab-badge.svg\" alt=\"Open In Colab\"/></a>"
      ]
    },
    {
      "cell_type": "markdown",
      "id": "30146ed7",
      "metadata": {
        "id": "30146ed7"
      },
      "source": [
        "# Statistical Arbitrage for Sports Betting"
      ]
    },
    {
      "cell_type": "markdown",
      "id": "fa0524d5",
      "metadata": {
        "id": "fa0524d5"
      },
      "source": [
        "Using: Live Sports Odds API\n",
        "Documentation Link: https://the-odds-api.com/"
      ]
    },
    {
      "cell_type": "code",
      "source": [
        "pip install XlsxWriter\n"
      ],
      "metadata": {
        "id": "S8_YdN482qhR"
      },
      "id": "S8_YdN482qhR",
      "execution_count": null,
      "outputs": []
    },
    {
      "cell_type": "markdown",
      "id": "40bd8cd9",
      "metadata": {
        "id": "40bd8cd9"
      },
      "source": [
        "This program will look for statistical arbitrage opportunities in the upcoming eight games across all sports."
      ]
    },
    {
      "cell_type": "markdown",
      "id": "88d7d4e1",
      "metadata": {
        "id": "88d7d4e1"
      },
      "source": [
        "### Importing Dependencies and Acquiring API Key"
      ]
    },
    {
      "cell_type": "code",
      "source": [
        "!pip install XlsxWriter\n"
      ],
      "metadata": {
        "colab": {
          "base_uri": "https://localhost:8080/"
        },
        "id": "eJSxv9OndOcl",
        "outputId": "080f1f03-a8e3-4d11-a3cd-fbc8320ca046"
      },
      "id": "eJSxv9OndOcl",
      "execution_count": null,
      "outputs": [
        {
          "output_type": "stream",
          "name": "stdout",
          "text": [
            "Looking in indexes: https://pypi.org/simple, https://us-python.pkg.dev/colab-wheels/public/simple/\n",
            "Collecting XlsxWriter\n",
            "  Downloading XlsxWriter-3.0.7-py3-none-any.whl (152 kB)\n",
            "\u001b[2K     \u001b[90m━━━━━━━━━━━━━━━━━━━━━━━━━━━━━━━━━━━━━━━\u001b[0m \u001b[32m152.8/152.8 KB\u001b[0m \u001b[31m3.2 MB/s\u001b[0m eta \u001b[36m0:00:00\u001b[0m\n",
            "\u001b[?25hInstalling collected packages: XlsxWriter\n",
            "Successfully installed XlsxWriter-3.0.7\n"
          ]
        }
      ]
    },
    {
      "cell_type": "code",
      "execution_count": null,
      "id": "31fa11dc",
      "metadata": {
        "id": "31fa11dc"
      },
      "outputs": [],
      "source": [
        "import requests\n",
        "import xlsxwriter\n",
        "import pandas as pd\n",
        "import numpy as np\n",
        "import openpyxl\n",
        "from openpyxl import Workbook, load_workbook\n",
        "from openpyxl.styles import Border, Side, Font, Alignment, PatternFill, numbers\n",
        "\n",
        "API_KEY = 'b4021dc31a86d0c5bcd86955385f6714'\n"
      ]
    },
    {
      "cell_type": "markdown",
      "id": "2728ca07",
      "metadata": {
        "id": "2728ca07"
      },
      "source": [
        "### Defining Constants and Making API Call\n",
        "- ``BET_SIZE`` is the monetary amount in USD that you are willing to make for each bet. For example, if you define ``BET_SIZE`` as 100, you are telling the program that you want to bet a total of 100 dollars USD for each arbitrage opportunity that the program finds"
      ]
    },
    {
      "cell_type": "code",
      "execution_count": null,
      "id": "b07f9912",
      "metadata": {
        "scrolled": false,
        "id": "b07f9912"
      },
      "outputs": [],
      "source": [
        "SPORT = 'upcoming' # use the sport_key from the /sports endpoint below, or use 'upcoming' to see the next 8 games across all sports\n",
        "\n",
        "REGIONS = 'us' # uk | us | eu | au. Multiple can be specified if comma delimited\n",
        "\n",
        "MARKETS = 'h2h' # h2h | spreads | totals. Multiple can be specified if comma delimited\n",
        "\n",
        "ODDS_FORMAT = 'decimal' # decimal | american\n",
        "\n",
        "DATE_FORMAT = 'iso' # iso | unix\n",
        "\n",
        "BET_SIZE = 10\n",
        "\n",
        "odds_response = requests.get(\n",
        "    f'https://api.the-odds-api.com/v4/sports/{SPORT}/odds',\n",
        "    params={\n",
        "        'api_key': 'b4021dc31a86d0c5bcd86955385f6714',\n",
        "        'regions': REGIONS,\n",
        "        'markets': MARKETS,\n",
        "        'oddsFormat': ODDS_FORMAT,\n",
        "        'dateFormat': DATE_FORMAT,\n",
        "    }\n",
        ").json()"
      ]
    },
    {
      "cell_type": "code",
      "execution_count": null,
      "id": "a406cfc7",
      "metadata": {
        "colab": {
          "base_uri": "https://localhost:8080/"
        },
        "id": "a406cfc7",
        "outputId": "b452c211-857b-4c82-f816-83549c21bdd3"
      },
      "outputs": [
        {
          "output_type": "stream",
          "name": "stdout",
          "text": [
            "[{'id': '52937650c1f4edbce02009268a033498', 'sport_key': 'soccer_portugal_primeira_liga', 'sport_title': 'Primeira Liga - Portugal', 'commence_time': '2023-01-20T21:16:06Z', 'home_team': 'Sporting Lisbon', 'away_team': 'Vizela', 'bookmakers': [{'key': 'fanduel', 'title': 'FanDuel', 'last_update': '2023-01-20T23:09:25Z', 'markets': [{'key': 'h2h', 'last_update': '2023-01-20T23:09:25Z', 'outcomes': [{'name': 'Sporting Lisbon', 'price': 1.01}, {'name': 'Vizela', 'price': 51.0}, {'name': 'Draw', 'price': 23.0}]}]}, {'key': 'draftkings', 'title': 'DraftKings', 'last_update': '2023-01-20T23:13:44Z', 'markets': [{'key': 'h2h', 'last_update': '2023-01-20T23:13:44Z', 'outcomes': [{'name': 'Sporting Lisbon', 'price': 1.0}, {'name': 'Vizela', 'price': 46.0}, {'name': 'Draw', 'price': 36.0}]}]}, {'key': 'mybookieag', 'title': 'MyBookie.ag', 'last_update': '2023-01-20T23:16:41Z', 'markets': [{'key': 'h2h', 'last_update': '2023-01-20T23:16:41Z', 'outcomes': [{'name': 'Sporting Lisbon', 'price': 3.2}, {'name': 'Vizela', 'price': 15.0}, {'name': 'Draw', 'price': 1.4}]}]}, {'key': 'sugarhouse', 'title': 'SugarHouse', 'last_update': '2023-01-20T23:07:57Z', 'markets': [{'key': 'h2h', 'last_update': '2023-01-20T23:07:57Z', 'outcomes': [{'name': 'Sporting Lisbon', 'price': 6.5}, {'name': 'Vizela', 'price': 30.0}, {'name': 'Draw', 'price': 1.15}]}]}, {'key': 'foxbet', 'title': 'FOX Bet', 'last_update': '2023-01-20T23:15:14Z', 'markets': [{'key': 'h2h', 'last_update': '2023-01-20T23:15:14Z', 'outcomes': [{'name': 'Sporting Lisbon', 'price': 1.08}, {'name': 'Vizela', 'price': 34.0}, {'name': 'Draw', 'price': 7.0}]}]}]}, {'id': 'f4462ae0db5c1adbfb890c74b7e6a960', 'sport_key': 'basketball_ncaab', 'sport_title': 'NCAAB', 'commence_time': '2023-01-20T23:30:00Z', 'home_team': 'Kent State Golden Flashes', 'away_team': 'Ball State Cardinals', 'bookmakers': [{'key': 'draftkings', 'title': 'DraftKings', 'last_update': '2023-01-20T23:18:51Z', 'markets': [{'key': 'h2h', 'last_update': '2023-01-20T23:18:51Z', 'outcomes': [{'name': 'Ball State Cardinals', 'price': 4.1}, {'name': 'Kent State Golden Flashes', 'price': 1.26}]}]}, {'key': 'williamhill_us', 'title': 'William Hill (US)', 'last_update': '2023-01-20T23:18:50Z', 'markets': [{'key': 'h2h', 'last_update': '2023-01-20T23:18:50Z', 'outcomes': [{'name': 'Ball State Cardinals', 'price': 4.2}, {'name': 'Kent State Golden Flashes', 'price': 1.24}]}]}, {'key': 'betonlineag', 'title': 'BetOnline.ag', 'last_update': '2023-01-20T23:19:08Z', 'markets': [{'key': 'h2h', 'last_update': '2023-01-20T23:19:08Z', 'outcomes': [{'name': 'Ball State Cardinals', 'price': 4.0}, {'name': 'Kent State Golden Flashes', 'price': 1.27}]}]}, {'key': 'lowvig', 'title': 'LowVig.ag', 'last_update': '2023-01-20T23:18:51Z', 'markets': [{'key': 'h2h', 'last_update': '2023-01-20T23:18:51Z', 'outcomes': [{'name': 'Ball State Cardinals', 'price': 4.0}, {'name': 'Kent State Golden Flashes', 'price': 1.27}]}]}, {'key': 'bovada', 'title': 'Bovada', 'last_update': '2023-01-20T23:18:41Z', 'markets': [{'key': 'h2h', 'last_update': '2023-01-20T23:18:41Z', 'outcomes': [{'name': 'Ball State Cardinals', 'price': 3.95}, {'name': 'Kent State Golden Flashes', 'price': 1.26}]}]}, {'key': 'wynnbet', 'title': 'WynnBET', 'last_update': '2023-01-20T23:18:51Z', 'markets': [{'key': 'h2h', 'last_update': '2023-01-20T23:18:51Z', 'outcomes': [{'name': 'Ball State Cardinals', 'price': 4.05}, {'name': 'Kent State Golden Flashes', 'price': 1.25}]}]}, {'key': 'betus', 'title': 'BetUS', 'last_update': '2023-01-20T23:18:41Z', 'markets': [{'key': 'h2h', 'last_update': '2023-01-20T23:18:41Z', 'outcomes': [{'name': 'Ball State Cardinals', 'price': 3.9}, {'name': 'Kent State Golden Flashes', 'price': 1.27}]}]}, {'key': 'betmgm', 'title': 'BetMGM', 'last_update': '2023-01-20T23:18:21Z', 'markets': [{'key': 'h2h', 'last_update': '2023-01-20T23:18:21Z', 'outcomes': [{'name': 'Ball State Cardinals', 'price': 4.1}, {'name': 'Kent State Golden Flashes', 'price': 1.25}]}]}, {'key': 'pointsbetus', 'title': 'PointsBet (US)', 'last_update': '2023-01-20T23:18:41Z', 'markets': [{'key': 'h2h', 'last_update': '2023-01-20T23:18:41Z', 'outcomes': [{'name': 'Ball State Cardinals', 'price': 4.0}, {'name': 'Kent State Golden Flashes', 'price': 1.27}]}]}, {'key': 'superbook', 'title': 'SuperBook', 'last_update': '2023-01-20T23:18:52Z', 'markets': [{'key': 'h2h', 'last_update': '2023-01-20T23:18:52Z', 'outcomes': [{'name': 'Ball State Cardinals', 'price': 4.0}, {'name': 'Kent State Golden Flashes', 'price': 1.28}]}]}, {'key': 'circasports', 'title': 'Circa Sports', 'last_update': '2023-01-20T23:18:21Z', 'markets': [{'key': 'h2h', 'last_update': '2023-01-20T23:18:21Z', 'outcomes': [{'name': 'Ball State Cardinals', 'price': 4.04}, {'name': 'Kent State Golden Flashes', 'price': 1.25}]}]}, {'key': 'sugarhouse', 'title': 'SugarHouse', 'last_update': '2023-01-20T23:18:51Z', 'markets': [{'key': 'h2h', 'last_update': '2023-01-20T23:18:51Z', 'outcomes': [{'name': 'Ball State Cardinals', 'price': 3.9}, {'name': 'Kent State Golden Flashes', 'price': 1.27}]}]}, {'key': 'barstool', 'title': 'Barstool Sportsbook', 'last_update': '2023-01-20T23:19:02Z', 'markets': [{'key': 'h2h', 'last_update': '2023-01-20T23:19:02Z', 'outcomes': [{'name': 'Ball State Cardinals', 'price': 3.9}, {'name': 'Kent State Golden Flashes', 'price': 1.27}]}]}, {'key': 'twinspires', 'title': 'TwinSpires', 'last_update': '2023-01-20T23:17:58Z', 'markets': [{'key': 'h2h', 'last_update': '2023-01-20T23:17:57Z', 'outcomes': [{'name': 'Ball State Cardinals', 'price': 3.9}, {'name': 'Kent State Golden Flashes', 'price': 1.27}]}]}, {'key': 'unibet_us', 'title': 'Unibet', 'last_update': '2023-01-20T23:18:21Z', 'markets': [{'key': 'h2h', 'last_update': '2023-01-20T23:18:21Z', 'outcomes': [{'name': 'Ball State Cardinals', 'price': 3.9}, {'name': 'Kent State Golden Flashes', 'price': 1.27}]}]}, {'key': 'betrivers', 'title': 'BetRivers', 'last_update': '2023-01-20T23:18:21Z', 'markets': [{'key': 'h2h', 'last_update': '2023-01-20T23:18:21Z', 'outcomes': [{'name': 'Ball State Cardinals', 'price': 3.9}, {'name': 'Kent State Golden Flashes', 'price': 1.27}]}]}, {'key': 'foxbet', 'title': 'FOX Bet', 'last_update': '2023-01-20T23:18:51Z', 'markets': [{'key': 'h2h', 'last_update': '2023-01-20T23:18:50Z', 'outcomes': [{'name': 'Ball State Cardinals', 'price': 3.6}, {'name': 'Kent State Golden Flashes', 'price': 1.25}]}]}, {'key': 'mybookieag', 'title': 'MyBookie.ag', 'last_update': '2023-01-20T23:19:03Z', 'markets': [{'key': 'h2h', 'last_update': '2023-01-20T23:19:03Z', 'outcomes': [{'name': 'Ball State Cardinals', 'price': 4.03}, {'name': 'Kent State Golden Flashes', 'price': 1.25}]}]}]}, {'id': '8bdb59f5394ca33dbeae9b1edbf5ef30', 'sport_key': 'soccer_chile_campeonato', 'sport_title': 'Primera División - Chile', 'commence_time': '2023-01-20T23:30:00Z', 'home_team': 'Unión Española', 'away_team': 'Ñublense', 'bookmakers': [{'key': 'betmgm', 'title': 'BetMGM', 'last_update': '2023-01-20T23:18:11Z', 'markets': [{'key': 'h2h', 'last_update': '2023-01-20T23:18:11Z', 'outcomes': [{'name': 'Unión Española', 'price': 2.55}, {'name': 'Ñublense', 'price': 2.55}, {'name': 'Draw', 'price': 3.4}]}]}, {'key': 'williamhill_us', 'title': 'William Hill (US)', 'last_update': '2023-01-20T23:19:00Z', 'markets': [{'key': 'h2h', 'last_update': '2023-01-20T23:19:00Z', 'outcomes': [{'name': 'Unión Española', 'price': 2.6}, {'name': 'Ñublense', 'price': 2.55}, {'name': 'Draw', 'price': 3.2}]}]}, {'key': 'betrivers', 'title': 'BetRivers', 'last_update': '2023-01-20T23:19:00Z', 'markets': [{'key': 'h2h', 'last_update': '2023-01-20T23:19:00Z', 'outcomes': [{'name': 'Unión Española', 'price': 2.75}, {'name': 'Ñublense', 'price': 2.45}, {'name': 'Draw', 'price': 3.25}]}]}, {'key': 'draftkings', 'title': 'DraftKings', 'last_update': '2023-01-20T23:19:00Z', 'markets': [{'key': 'h2h', 'last_update': '2023-01-20T23:19:00Z', 'outcomes': [{'name': 'Unión Española', 'price': 2.7}, {'name': 'Ñublense', 'price': 2.65}, {'name': 'Draw', 'price': 3.35}]}]}, {'key': 'sugarhouse', 'title': 'SugarHouse', 'last_update': '2023-01-20T23:19:00Z', 'markets': [{'key': 'h2h', 'last_update': '2023-01-20T23:19:00Z', 'outcomes': [{'name': 'Unión Española', 'price': 2.75}, {'name': 'Ñublense', 'price': 2.45}, {'name': 'Draw', 'price': 3.25}]}]}, {'key': 'bovada', 'title': 'Bovada', 'last_update': '2023-01-20T23:19:00Z', 'markets': [{'key': 'h2h', 'last_update': '2023-01-20T23:19:00Z', 'outcomes': [{'name': 'Unión Española', 'price': 2.6}, {'name': 'Ñublense', 'price': 2.65}, {'name': 'Draw', 'price': 3.25}]}]}, {'key': 'foxbet', 'title': 'FOX Bet', 'last_update': '2023-01-20T23:19:00Z', 'markets': [{'key': 'h2h', 'last_update': '2023-01-20T23:19:00Z', 'outcomes': [{'name': 'Unión Española', 'price': 2.45}, {'name': 'Ñublense', 'price': 2.45}, {'name': 'Draw', 'price': 3.1}]}]}, {'key': 'fanduel', 'title': 'FanDuel', 'last_update': '2023-01-20T23:19:00Z', 'markets': [{'key': 'h2h', 'last_update': '2023-01-20T23:19:00Z', 'outcomes': [{'name': 'Unión Española', 'price': 2.5}, {'name': 'Ñublense', 'price': 2.65}, {'name': 'Draw', 'price': 3.2}]}]}, {'key': 'betonlineag', 'title': 'BetOnline.ag', 'last_update': '2023-01-20T23:18:33Z', 'markets': [{'key': 'h2h', 'last_update': '2023-01-20T23:18:33Z', 'outcomes': [{'name': 'Unión Española', 'price': 2.47}, {'name': 'Ñublense', 'price': 2.52}, {'name': 'Draw', 'price': 3.35}]}]}]}, {'id': '266ba9a86b5f99343b165ad5eec942ee', 'sport_key': 'basketball_ncaab', 'sport_title': 'NCAAB', 'commence_time': '2023-01-21T00:00:00Z', 'home_team': 'Fairfield Stags', 'away_team': 'Canisius Golden Griffins', 'bookmakers': [{'key': 'draftkings', 'title': 'DraftKings', 'last_update': '2023-01-20T23:18:51Z', 'markets': [{'key': 'h2h', 'last_update': '2023-01-20T23:18:51Z', 'outcomes': [{'name': 'Canisius Golden Griffins', 'price': 2.65}, {'name': 'Fairfield Stags', 'price': 1.51}]}]}, {'key': 'williamhill_us', 'title': 'William Hill (US)', 'last_update': '2023-01-20T23:18:50Z', 'markets': [{'key': 'h2h', 'last_update': '2023-01-20T23:18:50Z', 'outcomes': [{'name': 'Canisius Golden Griffins', 'price': 2.7}, {'name': 'Fairfield Stags', 'price': 1.49}]}]}, {'key': 'betonlineag', 'title': 'BetOnline.ag', 'last_update': '2023-01-20T23:19:08Z', 'markets': [{'key': 'h2h', 'last_update': '2023-01-20T23:19:08Z', 'outcomes': [{'name': 'Canisius Golden Griffins', 'price': 2.7}, {'name': 'Fairfield Stags', 'price': 1.51}]}]}, {'key': 'lowvig', 'title': 'LowVig.ag', 'last_update': '2023-01-20T23:18:51Z', 'markets': [{'key': 'h2h', 'last_update': '2023-01-20T23:18:51Z', 'outcomes': [{'name': 'Canisius Golden Griffins', 'price': 2.7}, {'name': 'Fairfield Stags', 'price': 1.51}]}]}, {'key': 'bovada', 'title': 'Bovada', 'last_update': '2023-01-20T23:18:41Z', 'markets': [{'key': 'h2h', 'last_update': '2023-01-20T23:18:41Z', 'outcomes': [{'name': 'Canisius Golden Griffins', 'price': 2.7}, {'name': 'Fairfield Stags', 'price': 1.5}]}]}, {'key': 'wynnbet', 'title': 'WynnBET', 'last_update': '2023-01-20T23:18:51Z', 'markets': [{'key': 'h2h', 'last_update': '2023-01-20T23:18:51Z', 'outcomes': [{'name': 'Canisius Golden Griffins', 'price': 2.7}, {'name': 'Fairfield Stags', 'price': 1.49}]}]}, {'key': 'betus', 'title': 'BetUS', 'last_update': '2023-01-20T23:18:41Z', 'markets': [{'key': 'h2h', 'last_update': '2023-01-20T23:18:41Z', 'outcomes': [{'name': 'Canisius Golden Griffins', 'price': 2.65}, {'name': 'Fairfield Stags', 'price': 1.51}]}]}, {'key': 'betmgm', 'title': 'BetMGM', 'last_update': '2023-01-20T23:18:21Z', 'markets': [{'key': 'h2h', 'last_update': '2023-01-20T23:18:21Z', 'outcomes': [{'name': 'Canisius Golden Griffins', 'price': 2.8}, {'name': 'Fairfield Stags', 'price': 1.44}]}]}, {'key': 'pointsbetus', 'title': 'PointsBet (US)', 'last_update': '2023-01-20T23:18:41Z', 'markets': [{'key': 'h2h', 'last_update': '2023-01-20T23:18:41Z', 'outcomes': [{'name': 'Canisius Golden Griffins', 'price': 2.75}, {'name': 'Fairfield Stags', 'price': 1.48}]}]}, {'key': 'superbook', 'title': 'SuperBook', 'last_update': '2023-01-20T23:18:52Z', 'markets': [{'key': 'h2h', 'last_update': '2023-01-20T23:18:52Z', 'outcomes': [{'name': 'Canisius Golden Griffins', 'price': 2.7}, {'name': 'Fairfield Stags', 'price': 1.53}]}]}, {'key': 'fanduel', 'title': 'FanDuel', 'last_update': '2023-01-20T23:19:03Z', 'markets': [{'key': 'h2h', 'last_update': '2023-01-20T23:19:03Z', 'outcomes': [{'name': 'Canisius Golden Griffins', 'price': 2.68}, {'name': 'Fairfield Stags', 'price': 1.48}]}]}, {'key': 'circasports', 'title': 'Circa Sports', 'last_update': '2023-01-20T23:18:21Z', 'markets': [{'key': 'h2h', 'last_update': '2023-01-20T23:18:21Z', 'outcomes': [{'name': 'Canisius Golden Griffins', 'price': 2.83}, {'name': 'Fairfield Stags', 'price': 1.44}]}]}, {'key': 'barstool', 'title': 'Barstool Sportsbook', 'last_update': '2023-01-20T23:19:02Z', 'markets': [{'key': 'h2h', 'last_update': '2023-01-20T23:19:02Z', 'outcomes': [{'name': 'Canisius Golden Griffins', 'price': 2.65}, {'name': 'Fairfield Stags', 'price': 1.49}]}]}, {'key': 'sugarhouse', 'title': 'SugarHouse', 'last_update': '2023-01-20T23:18:51Z', 'markets': [{'key': 'h2h', 'last_update': '2023-01-20T23:18:51Z', 'outcomes': [{'name': 'Canisius Golden Griffins', 'price': 2.65}, {'name': 'Fairfield Stags', 'price': 1.49}]}]}, {'key': 'twinspires', 'title': 'TwinSpires', 'last_update': '2023-01-20T23:17:58Z', 'markets': [{'key': 'h2h', 'last_update': '2023-01-20T23:17:57Z', 'outcomes': [{'name': 'Canisius Golden Griffins', 'price': 2.65}, {'name': 'Fairfield Stags', 'price': 1.49}]}]}, {'key': 'unibet_us', 'title': 'Unibet', 'last_update': '2023-01-20T23:18:21Z', 'markets': [{'key': 'h2h', 'last_update': '2023-01-20T23:18:21Z', 'outcomes': [{'name': 'Canisius Golden Griffins', 'price': 2.65}, {'name': 'Fairfield Stags', 'price': 1.49}]}]}, {'key': 'betrivers', 'title': 'BetRivers', 'last_update': '2023-01-20T23:18:21Z', 'markets': [{'key': 'h2h', 'last_update': '2023-01-20T23:18:21Z', 'outcomes': [{'name': 'Canisius Golden Griffins', 'price': 2.65}, {'name': 'Fairfield Stags', 'price': 1.49}]}]}, {'key': 'foxbet', 'title': 'FOX Bet', 'last_update': '2023-01-20T23:18:51Z', 'markets': [{'key': 'h2h', 'last_update': '2023-01-20T23:18:50Z', 'outcomes': [{'name': 'Canisius Golden Griffins', 'price': 2.6}, {'name': 'Fairfield Stags', 'price': 1.44}]}]}, {'key': 'mybookieag', 'title': 'MyBookie.ag', 'last_update': '2023-01-20T23:19:03Z', 'markets': [{'key': 'h2h', 'last_update': '2023-01-20T23:19:03Z', 'outcomes': [{'name': 'Canisius Golden Griffins', 'price': 2.72}, {'name': 'Fairfield Stags', 'price': 1.46}]}]}]}, {'id': '44321d8bef462bf63d2b96341820385e', 'sport_key': 'basketball_ncaab', 'sport_title': 'NCAAB', 'commence_time': '2023-01-21T00:00:00Z', 'home_team': 'Wagner Seahawks', 'away_team': 'Central Connecticut St Blue Devils', 'bookmakers': [{'key': 'draftkings', 'title': 'DraftKings', 'last_update': '2023-01-20T23:18:51Z', 'markets': [{'key': 'h2h', 'last_update': '2023-01-20T23:18:51Z', 'outcomes': [{'name': 'Central Connecticut St Blue Devils', 'price': 2.6}, {'name': 'Wagner Seahawks', 'price': 1.53}]}]}, {'key': 'williamhill_us', 'title': 'William Hill (US)', 'last_update': '2023-01-20T23:18:50Z', 'markets': [{'key': 'h2h', 'last_update': '2023-01-20T23:18:50Z', 'outcomes': [{'name': 'Central Connecticut St Blue Devils', 'price': 2.7}, {'name': 'Wagner Seahawks', 'price': 1.49}]}]}, {'key': 'fanduel', 'title': 'FanDuel', 'last_update': '2023-01-20T23:19:03Z', 'markets': [{'key': 'h2h', 'last_update': '2023-01-20T23:19:03Z', 'outcomes': [{'name': 'Central Connecticut St Blue Devils', 'price': 2.72}, {'name': 'Wagner Seahawks', 'price': 1.48}]}]}, {'key': 'pointsbetus', 'title': 'PointsBet (US)', 'last_update': '2023-01-20T23:18:41Z', 'markets': [{'key': 'h2h', 'last_update': '2023-01-20T23:18:41Z', 'outcomes': [{'name': 'Central Connecticut St Blue Devils', 'price': 2.65}, {'name': 'Wagner Seahawks', 'price': 1.5}]}]}, {'key': 'sugarhouse', 'title': 'SugarHouse', 'last_update': '2023-01-20T23:18:51Z', 'markets': [{'key': 'h2h', 'last_update': '2023-01-20T23:18:51Z', 'outcomes': [{'name': 'Central Connecticut St Blue Devils', 'price': 2.7}, {'name': 'Wagner Seahawks', 'price': 1.49}]}]}, {'key': 'barstool', 'title': 'Barstool Sportsbook', 'last_update': '2023-01-20T23:19:02Z', 'markets': [{'key': 'h2h', 'last_update': '2023-01-20T23:19:02Z', 'outcomes': [{'name': 'Central Connecticut St Blue Devils', 'price': 2.7}, {'name': 'Wagner Seahawks', 'price': 1.49}]}]}, {'key': 'unibet_us', 'title': 'Unibet', 'last_update': '2023-01-20T23:18:21Z', 'markets': [{'key': 'h2h', 'last_update': '2023-01-20T23:18:21Z', 'outcomes': [{'name': 'Central Connecticut St Blue Devils', 'price': 2.65}, {'name': 'Wagner Seahawks', 'price': 1.49}]}]}, {'key': 'twinspires', 'title': 'TwinSpires', 'last_update': '2023-01-20T23:17:58Z', 'markets': [{'key': 'h2h', 'last_update': '2023-01-20T23:17:57Z', 'outcomes': [{'name': 'Central Connecticut St Blue Devils', 'price': 2.65}, {'name': 'Wagner Seahawks', 'price': 1.49}]}]}, {'key': 'betrivers', 'title': 'BetRivers', 'last_update': '2023-01-20T23:18:21Z', 'markets': [{'key': 'h2h', 'last_update': '2023-01-20T23:18:21Z', 'outcomes': [{'name': 'Central Connecticut St Blue Devils', 'price': 2.7}, {'name': 'Wagner Seahawks', 'price': 1.49}]}]}, {'key': 'bovada', 'title': 'Bovada', 'last_update': '2023-01-20T23:18:41Z', 'markets': [{'key': 'h2h', 'last_update': '2023-01-20T23:18:41Z', 'outcomes': [{'name': 'Central Connecticut St Blue Devils', 'price': 2.65}, {'name': 'Wagner Seahawks', 'price': 1.51}]}]}, {'key': 'betus', 'title': 'BetUS', 'last_update': '2023-01-20T23:18:41Z', 'markets': [{'key': 'h2h', 'last_update': '2023-01-20T23:18:41Z', 'outcomes': [{'name': 'Central Connecticut St Blue Devils', 'price': 2.65}, {'name': 'Wagner Seahawks', 'price': 1.51}]}]}, {'key': 'foxbet', 'title': 'FOX Bet', 'last_update': '2023-01-20T23:18:51Z', 'markets': [{'key': 'h2h', 'last_update': '2023-01-20T23:18:50Z', 'outcomes': [{'name': 'Central Connecticut St Blue Devils', 'price': 2.6}, {'name': 'Wagner Seahawks', 'price': 1.44}]}]}, {'key': 'superbook', 'title': 'SuperBook', 'last_update': '2023-01-20T23:18:52Z', 'markets': [{'key': 'h2h', 'last_update': '2023-01-20T23:18:52Z', 'outcomes': [{'name': 'Central Connecticut St Blue Devils', 'price': 2.7}, {'name': 'Wagner Seahawks', 'price': 1.53}]}]}, {'key': 'wynnbet', 'title': 'WynnBET', 'last_update': '2023-01-20T23:18:51Z', 'markets': [{'key': 'h2h', 'last_update': '2023-01-20T23:18:51Z', 'outcomes': [{'name': 'Central Connecticut St Blue Devils', 'price': 2.7}, {'name': 'Wagner Seahawks', 'price': 1.49}]}]}, {'key': 'betmgm', 'title': 'BetMGM', 'last_update': '2023-01-20T23:18:21Z', 'markets': [{'key': 'h2h', 'last_update': '2023-01-20T23:18:21Z', 'outcomes': [{'name': 'Central Connecticut St Blue Devils', 'price': 2.7}, {'name': 'Wagner Seahawks', 'price': 1.48}]}]}, {'key': 'mybookieag', 'title': 'MyBookie.ag', 'last_update': '2023-01-20T23:19:03Z', 'markets': [{'key': 'h2h', 'last_update': '2023-01-20T23:19:03Z', 'outcomes': [{'name': 'Central Connecticut St Blue Devils', 'price': 2.66}, {'name': 'Wagner Seahawks', 'price': 1.48}]}]}]}, {'id': '437817636e0e38c051639d5b64859561', 'sport_key': 'tennis_wta_aus_open_singles', 'sport_title': 'WTA Australian Open', 'commence_time': '2023-01-21T00:00:00Z', 'home_team': 'Nuria Parrizas-Diaz', 'away_team': 'Donna Vekic', 'bookmakers': [{'key': 'betrivers', 'title': 'BetRivers', 'last_update': '2023-01-20T23:18:05Z', 'markets': [{'key': 'h2h', 'last_update': '2023-01-20T23:18:05Z', 'outcomes': [{'name': 'Donna Vekic', 'price': 1.38}, {'name': 'Nuria Parrizas-Diaz', 'price': 3.1}]}]}, {'key': 'sugarhouse', 'title': 'SugarHouse', 'last_update': '2023-01-20T23:18:05Z', 'markets': [{'key': 'h2h', 'last_update': '2023-01-20T23:18:05Z', 'outcomes': [{'name': 'Donna Vekic', 'price': 1.38}, {'name': 'Nuria Parrizas-Diaz', 'price': 3.1}]}]}, {'key': 'wynnbet', 'title': 'WynnBET', 'last_update': '2023-01-20T23:18:05Z', 'markets': [{'key': 'h2h', 'last_update': '2023-01-20T23:18:05Z', 'outcomes': [{'name': 'Donna Vekic', 'price': 1.4}, {'name': 'Nuria Parrizas-Diaz', 'price': 3.0}]}]}, {'key': 'twinspires', 'title': 'TwinSpires', 'last_update': '2023-01-20T23:18:05Z', 'markets': [{'key': 'h2h', 'last_update': '2023-01-20T23:18:05Z', 'outcomes': [{'name': 'Donna Vekic', 'price': 1.38}, {'name': 'Nuria Parrizas-Diaz', 'price': 3.1}]}]}, {'key': 'unibet_us', 'title': 'Unibet', 'last_update': '2023-01-20T23:18:06Z', 'markets': [{'key': 'h2h', 'last_update': '2023-01-20T23:18:06Z', 'outcomes': [{'name': 'Donna Vekic', 'price': 1.38}, {'name': 'Nuria Parrizas-Diaz', 'price': 3.1}]}]}, {'key': 'barstool', 'title': 'Barstool Sportsbook', 'last_update': '2023-01-20T23:18:45Z', 'markets': [{'key': 'h2h', 'last_update': '2023-01-20T23:18:45Z', 'outcomes': [{'name': 'Donna Vekic', 'price': 1.38}, {'name': 'Nuria Parrizas-Diaz', 'price': 3.1}]}]}, {'key': 'draftkings', 'title': 'DraftKings', 'last_update': '2023-01-20T23:18:05Z', 'markets': [{'key': 'h2h', 'last_update': '2023-01-20T23:18:05Z', 'outcomes': [{'name': 'Donna Vekic', 'price': 1.38}, {'name': 'Nuria Parrizas-Diaz', 'price': 3.05}]}]}, {'key': 'pointsbetus', 'title': 'PointsBet (US)', 'last_update': '2023-01-20T23:18:45Z', 'markets': [{'key': 'h2h', 'last_update': '2023-01-20T23:18:45Z', 'outcomes': [{'name': 'Donna Vekic', 'price': 1.38}, {'name': 'Nuria Parrizas-Diaz', 'price': 3.0}]}]}, {'key': 'fanduel', 'title': 'FanDuel', 'last_update': '2023-01-20T23:18:05Z', 'markets': [{'key': 'h2h', 'last_update': '2023-01-20T23:18:05Z', 'outcomes': [{'name': 'Donna Vekic', 'price': 1.4}, {'name': 'Nuria Parrizas-Diaz', 'price': 3.05}]}]}, {'key': 'mybookieag', 'title': 'MyBookie.ag', 'last_update': '2023-01-20T23:18:57Z', 'markets': [{'key': 'h2h', 'last_update': '2023-01-20T23:18:56Z', 'outcomes': [{'name': 'Donna Vekic', 'price': 1.39}, {'name': 'Nuria Parrizas-Diaz', 'price': 2.96}]}]}, {'key': 'betonlineag', 'title': 'BetOnline.ag', 'last_update': '2023-01-20T23:18:35Z', 'markets': [{'key': 'h2h', 'last_update': '2023-01-20T23:18:35Z', 'outcomes': [{'name': 'Donna Vekic', 'price': 1.4}, {'name': 'Nuria Parrizas-Diaz', 'price': 3.1}]}]}, {'key': 'lowvig', 'title': 'LowVig.ag', 'last_update': '2023-01-20T23:17:40Z', 'markets': [{'key': 'h2h', 'last_update': '2023-01-20T23:17:40Z', 'outcomes': [{'name': 'Donna Vekic', 'price': 1.4}, {'name': 'Nuria Parrizas-Diaz', 'price': 3.1}]}]}, {'key': 'bovada', 'title': 'Bovada', 'last_update': '2023-01-20T23:18:16Z', 'markets': [{'key': 'h2h', 'last_update': '2023-01-20T23:18:16Z', 'outcomes': [{'name': 'Donna Vekic', 'price': 1.4}, {'name': 'Nuria Parrizas-Diaz', 'price': 3.0}]}]}, {'key': 'betmgm', 'title': 'BetMGM', 'last_update': '2023-01-20T23:18:56Z', 'markets': [{'key': 'h2h', 'last_update': '2023-01-20T23:18:56Z', 'outcomes': [{'name': 'Donna Vekic', 'price': 1.4}, {'name': 'Nuria Parrizas-Diaz', 'price': 2.8}]}]}]}, {'id': '7466fd8baf7d2ecd8a2b3013dc82a6a8', 'sport_key': 'basketball_ncaab', 'sport_title': 'NCAAB', 'commence_time': '2023-01-21T00:00:00Z', 'home_team': 'Fairleigh Dickinson Knights', 'away_team': 'Sacred Heart Pioneers', 'bookmakers': [{'key': 'barstool', 'title': 'Barstool Sportsbook', 'last_update': '2023-01-20T23:19:02Z', 'markets': [{'key': 'h2h', 'last_update': '2023-01-20T23:19:02Z', 'outcomes': [{'name': 'Fairleigh Dickinson Knights', 'price': 1.45}, {'name': 'Sacred Heart Pioneers', 'price': 2.8}]}]}, {'key': 'twinspires', 'title': 'TwinSpires', 'last_update': '2023-01-20T23:17:58Z', 'markets': [{'key': 'h2h', 'last_update': '2023-01-20T23:17:57Z', 'outcomes': [{'name': 'Fairleigh Dickinson Knights', 'price': 1.45}, {'name': 'Sacred Heart Pioneers', 'price': 2.75}]}]}, {'key': 'betrivers', 'title': 'BetRivers', 'last_update': '2023-01-20T23:18:21Z', 'markets': [{'key': 'h2h', 'last_update': '2023-01-20T23:18:21Z', 'outcomes': [{'name': 'Fairleigh Dickinson Knights', 'price': 1.45}, {'name': 'Sacred Heart Pioneers', 'price': 2.8}]}]}, {'key': 'bovada', 'title': 'Bovada', 'last_update': '2023-01-20T23:18:41Z', 'markets': [{'key': 'h2h', 'last_update': '2023-01-20T23:18:41Z', 'outcomes': [{'name': 'Fairleigh Dickinson Knights', 'price': 1.45}, {'name': 'Sacred Heart Pioneers', 'price': 2.8}]}]}, {'key': 'betus', 'title': 'BetUS', 'last_update': '2023-01-20T23:18:41Z', 'markets': [{'key': 'h2h', 'last_update': '2023-01-20T23:18:41Z', 'outcomes': [{'name': 'Fairleigh Dickinson Knights', 'price': 1.48}, {'name': 'Sacred Heart Pioneers', 'price': 2.75}]}]}, {'key': 'superbook', 'title': 'SuperBook', 'last_update': '2023-01-20T23:18:52Z', 'markets': [{'key': 'h2h', 'last_update': '2023-01-20T23:18:52Z', 'outcomes': [{'name': 'Fairleigh Dickinson Knights', 'price': 1.47}, {'name': 'Sacred Heart Pioneers', 'price': 2.85}]}]}, {'key': 'wynnbet', 'title': 'WynnBET', 'last_update': '2023-01-20T23:18:51Z', 'markets': [{'key': 'h2h', 'last_update': '2023-01-20T23:18:51Z', 'outcomes': [{'name': 'Fairleigh Dickinson Knights', 'price': 1.45}, {'name': 'Sacred Heart Pioneers', 'price': 2.8}]}]}, {'key': 'mybookieag', 'title': 'MyBookie.ag', 'last_update': '2023-01-20T23:19:03Z', 'markets': [{'key': 'h2h', 'last_update': '2023-01-20T23:19:03Z', 'outcomes': [{'name': 'Fairleigh Dickinson Knights', 'price': 1.44}, {'name': 'Sacred Heart Pioneers', 'price': 2.82}]}]}]}, {'id': '91a79dabae5a8f90c9f5f39242bfcef8', 'sport_key': 'basketball_ncaab', 'sport_title': 'NCAAB', 'commence_time': '2023-01-21T00:00:00Z', 'home_team': 'Manhattan Jaspers', 'away_team': 'Iona Gaels', 'bookmakers': [{'key': 'draftkings', 'title': 'DraftKings', 'last_update': '2023-01-20T23:18:51Z', 'markets': [{'key': 'h2h', 'last_update': '2023-01-20T23:18:51Z', 'outcomes': [{'name': 'Iona Gaels', 'price': 1.1}, {'name': 'Manhattan Jaspers', 'price': 8.0}]}]}, {'key': 'williamhill_us', 'title': 'William Hill (US)', 'last_update': '2023-01-20T23:18:50Z', 'markets': [{'key': 'h2h', 'last_update': '2023-01-20T23:18:50Z', 'outcomes': [{'name': 'Iona Gaels', 'price': 1.09}, {'name': 'Manhattan Jaspers', 'price': 8.0}]}]}, {'key': 'betonlineag', 'title': 'BetOnline.ag', 'last_update': '2023-01-20T23:19:08Z', 'markets': [{'key': 'h2h', 'last_update': '2023-01-20T23:19:08Z', 'outcomes': [{'name': 'Iona Gaels', 'price': 1.09}, {'name': 'Manhattan Jaspers', 'price': 8.0}]}]}, {'key': 'lowvig', 'title': 'LowVig.ag', 'last_update': '2023-01-20T23:18:51Z', 'markets': [{'key': 'h2h', 'last_update': '2023-01-20T23:18:51Z', 'outcomes': [{'name': 'Iona Gaels', 'price': 1.09}, {'name': 'Manhattan Jaspers', 'price': 8.0}]}]}, {'key': 'bovada', 'title': 'Bovada', 'last_update': '2023-01-20T23:18:41Z', 'markets': [{'key': 'h2h', 'last_update': '2023-01-20T23:18:41Z', 'outcomes': [{'name': 'Iona Gaels', 'price': 1.08}, {'name': 'Manhattan Jaspers', 'price': 8.25}]}]}, {'key': 'wynnbet', 'title': 'WynnBET', 'last_update': '2023-01-20T23:18:51Z', 'markets': [{'key': 'h2h', 'last_update': '2023-01-20T23:18:51Z', 'outcomes': [{'name': 'Iona Gaels', 'price': 1.08}, {'name': 'Manhattan Jaspers', 'price': 8.35}]}]}, {'key': 'betus', 'title': 'BetUS', 'last_update': '2023-01-20T23:18:41Z', 'markets': [{'key': 'h2h', 'last_update': '2023-01-20T23:18:41Z', 'outcomes': [{'name': 'Iona Gaels', 'price': 1.1}, {'name': 'Manhattan Jaspers', 'price': 7.85}]}]}, {'key': 'pointsbetus', 'title': 'PointsBet (US)', 'last_update': '2023-01-20T23:18:41Z', 'markets': [{'key': 'h2h', 'last_update': '2023-01-20T23:18:41Z', 'outcomes': [{'name': 'Iona Gaels', 'price': 1.09}, {'name': 'Manhattan Jaspers', 'price': 8.0}]}]}, {'key': 'betmgm', 'title': 'BetMGM', 'last_update': '2023-01-20T23:18:21Z', 'markets': [{'key': 'h2h', 'last_update': '2023-01-20T23:18:21Z', 'outcomes': [{'name': 'Iona Gaels', 'price': 1.09}, {'name': 'Manhattan Jaspers', 'price': 7.75}]}]}, {'key': 'superbook', 'title': 'SuperBook', 'last_update': '2023-01-20T23:18:52Z', 'markets': [{'key': 'h2h', 'last_update': '2023-01-20T23:18:52Z', 'outcomes': [{'name': 'Iona Gaels', 'price': 1.09}, {'name': 'Manhattan Jaspers', 'price': 8.0}]}]}, {'key': 'circasports', 'title': 'Circa Sports', 'last_update': '2023-01-20T23:18:21Z', 'markets': [{'key': 'h2h', 'last_update': '2023-01-20T23:18:21Z', 'outcomes': [{'name': 'Iona Gaels', 'price': 1.07}, {'name': 'Manhattan Jaspers', 'price': 8.51}]}]}, {'key': 'sugarhouse', 'title': 'SugarHouse', 'last_update': '2023-01-20T23:18:51Z', 'markets': [{'key': 'h2h', 'last_update': '2023-01-20T23:18:51Z', 'outcomes': [{'name': 'Iona Gaels', 'price': 1.08}, {'name': 'Manhattan Jaspers', 'price': 8.5}]}]}, {'key': 'twinspires', 'title': 'TwinSpires', 'last_update': '2023-01-20T23:17:58Z', 'markets': [{'key': 'h2h', 'last_update': '2023-01-20T23:17:57Z', 'outcomes': [{'name': 'Iona Gaels', 'price': 1.08}, {'name': 'Manhattan Jaspers', 'price': 8.0}]}]}, {'key': 'unibet_us', 'title': 'Unibet', 'last_update': '2023-01-20T23:18:21Z', 'markets': [{'key': 'h2h', 'last_update': '2023-01-20T23:18:21Z', 'outcomes': [{'name': 'Iona Gaels', 'price': 1.08}, {'name': 'Manhattan Jaspers', 'price': 8.0}]}]}, {'key': 'barstool', 'title': 'Barstool Sportsbook', 'last_update': '2023-01-20T23:19:02Z', 'markets': [{'key': 'h2h', 'last_update': '2023-01-20T23:19:02Z', 'outcomes': [{'name': 'Iona Gaels', 'price': 1.08}, {'name': 'Manhattan Jaspers', 'price': 8.5}]}]}, {'key': 'betrivers', 'title': 'BetRivers', 'last_update': '2023-01-20T23:18:21Z', 'markets': [{'key': 'h2h', 'last_update': '2023-01-20T23:18:21Z', 'outcomes': [{'name': 'Iona Gaels', 'price': 1.08}, {'name': 'Manhattan Jaspers', 'price': 8.5}]}]}, {'key': 'foxbet', 'title': 'FOX Bet', 'last_update': '2023-01-20T23:18:51Z', 'markets': [{'key': 'h2h', 'last_update': '2023-01-20T23:18:50Z', 'outcomes': [{'name': 'Iona Gaels', 'price': 1.09}, {'name': 'Manhattan Jaspers', 'price': 6.0}]}]}, {'key': 'mybookieag', 'title': 'MyBookie.ag', 'last_update': '2023-01-20T23:19:03Z', 'markets': [{'key': 'h2h', 'last_update': '2023-01-20T23:19:03Z', 'outcomes': [{'name': 'Iona Gaels', 'price': 1.1}, {'name': 'Manhattan Jaspers', 'price': 7.25}]}]}]}, {'id': 'ec3f1c708b0edcac32a61b003753cee4', 'sport_key': 'tennis_wta_aus_open_singles', 'sport_title': 'WTA Australian Open', 'commence_time': '2023-01-21T00:00:00Z', 'home_team': 'Varvara Gracheva', 'away_team': 'Karolina Pliskova', 'bookmakers': [{'key': 'betrivers', 'title': 'BetRivers', 'last_update': '2023-01-20T23:18:05Z', 'markets': [{'key': 'h2h', 'last_update': '2023-01-20T23:18:05Z', 'outcomes': [{'name': 'Karolina Pliskova', 'price': 1.28}, {'name': 'Varvara Gracheva', 'price': 3.75}]}]}, {'key': 'wynnbet', 'title': 'WynnBET', 'last_update': '2023-01-20T23:18:05Z', 'markets': [{'key': 'h2h', 'last_update': '2023-01-20T23:18:05Z', 'outcomes': [{'name': 'Karolina Pliskova', 'price': 1.27}, {'name': 'Varvara Gracheva', 'price': 3.8}]}]}, {'key': 'twinspires', 'title': 'TwinSpires', 'last_update': '2023-01-20T23:18:05Z', 'markets': [{'key': 'h2h', 'last_update': '2023-01-20T23:18:05Z', 'outcomes': [{'name': 'Karolina Pliskova', 'price': 1.28}, {'name': 'Varvara Gracheva', 'price': 3.75}]}]}, {'key': 'unibet_us', 'title': 'Unibet', 'last_update': '2023-01-20T23:18:06Z', 'markets': [{'key': 'h2h', 'last_update': '2023-01-20T23:18:06Z', 'outcomes': [{'name': 'Karolina Pliskova', 'price': 1.28}, {'name': 'Varvara Gracheva', 'price': 3.75}]}]}, {'key': 'barstool', 'title': 'Barstool Sportsbook', 'last_update': '2023-01-20T23:18:45Z', 'markets': [{'key': 'h2h', 'last_update': '2023-01-20T23:18:45Z', 'outcomes': [{'name': 'Karolina Pliskova', 'price': 1.28}, {'name': 'Varvara Gracheva', 'price': 3.75}]}]}, {'key': 'sugarhouse', 'title': 'SugarHouse', 'last_update': '2023-01-20T23:18:05Z', 'markets': [{'key': 'h2h', 'last_update': '2023-01-20T23:18:05Z', 'outcomes': [{'name': 'Karolina Pliskova', 'price': 1.28}, {'name': 'Varvara Gracheva', 'price': 3.75}]}]}, {'key': 'draftkings', 'title': 'DraftKings', 'last_update': '2023-01-20T23:18:05Z', 'markets': [{'key': 'h2h', 'last_update': '2023-01-20T23:18:05Z', 'outcomes': [{'name': 'Karolina Pliskova', 'price': 1.28}, {'name': 'Varvara Gracheva', 'price': 3.8}]}]}, {'key': 'pointsbetus', 'title': 'PointsBet (US)', 'last_update': '2023-01-20T23:18:45Z', 'markets': [{'key': 'h2h', 'last_update': '2023-01-20T23:18:45Z', 'outcomes': [{'name': 'Karolina Pliskova', 'price': 1.27}, {'name': 'Varvara Gracheva', 'price': 3.8}]}]}, {'key': 'fanduel', 'title': 'FanDuel', 'last_update': '2023-01-20T23:18:05Z', 'markets': [{'key': 'h2h', 'last_update': '2023-01-20T23:18:05Z', 'outcomes': [{'name': 'Karolina Pliskova', 'price': 1.29}, {'name': 'Varvara Gracheva', 'price': 3.8}]}]}, {'key': 'mybookieag', 'title': 'MyBookie.ag', 'last_update': '2023-01-20T23:18:57Z', 'markets': [{'key': 'h2h', 'last_update': '2023-01-20T23:18:56Z', 'outcomes': [{'name': 'Karolina Pliskova', 'price': 1.27}, {'name': 'Varvara Gracheva', 'price': 3.65}]}]}, {'key': 'lowvig', 'title': 'LowVig.ag', 'last_update': '2023-01-20T23:17:40Z', 'markets': [{'key': 'h2h', 'last_update': '2023-01-20T23:17:40Z', 'outcomes': [{'name': 'Karolina Pliskova', 'price': 1.3}, {'name': 'Varvara Gracheva', 'price': 3.75}]}]}, {'key': 'betonlineag', 'title': 'BetOnline.ag', 'last_update': '2023-01-20T23:18:35Z', 'markets': [{'key': 'h2h', 'last_update': '2023-01-20T23:18:35Z', 'outcomes': [{'name': 'Karolina Pliskova', 'price': 1.3}, {'name': 'Varvara Gracheva', 'price': 3.75}]}]}, {'key': 'foxbet', 'title': 'FOX Bet', 'last_update': '2023-01-20T23:18:05Z', 'markets': [{'key': 'h2h', 'last_update': '2023-01-20T23:18:05Z', 'outcomes': [{'name': 'Karolina Pliskova', 'price': 1.28}, {'name': 'Varvara Gracheva', 'price': 3.5}]}]}, {'key': 'bovada', 'title': 'Bovada', 'last_update': '2023-01-20T23:18:16Z', 'markets': [{'key': 'h2h', 'last_update': '2023-01-20T23:18:16Z', 'outcomes': [{'name': 'Karolina Pliskova', 'price': 1.29}, {'name': 'Varvara Gracheva', 'price': 3.75}]}]}, {'key': 'betmgm', 'title': 'BetMGM', 'last_update': '2023-01-20T23:18:56Z', 'markets': [{'key': 'h2h', 'last_update': '2023-01-20T23:18:56Z', 'outcomes': [{'name': 'Karolina Pliskova', 'price': 1.27}, {'name': 'Varvara Gracheva', 'price': 3.7}]}]}]}]\n"
          ]
        }
      ],
      "source": [
        "# odds_response\n",
        "print(odds_response)"
      ]
    },
    {
      "cell_type": "markdown",
      "id": "795b37df",
      "metadata": {
        "id": "795b37df"
      },
      "source": [
        "### Event Class\n",
        "- Each ``Event`` object represents an indivudal sporting event\n",
        "- The ``data`` parameter contains all of the odds data that is received from the API call"
      ]
    },
    {
      "cell_type": "code",
      "execution_count": null,
      "id": "bccd45dc",
      "metadata": {
        "id": "bccd45dc"
      },
      "outputs": [],
      "source": [
        "BOOKMAKER_INDEX = 0\n",
        "NAME_INDEX = 1\n",
        "ODDS_INDEX = 2\n",
        "FIRST = 0\n",
        "\n",
        "class Event:\n",
        "    def __init__(self, data):\n",
        "        self.data = data\n",
        "        self.sport_key = data['sport_key']\n",
        "        self.id = data['id']\n",
        "\n",
        "    def find_best_odds(self):\n",
        "        # number of possible outcomes for a sporting event\n",
        "        num_outcomes = len(self.data['bookmakers'][FIRST]['markets'][FIRST]['outcomes'])\n",
        "        self.num_outcomes = num_outcomes\n",
        "\n",
        "        # finding the best odds for each outcome in each event\n",
        "        best_odds = [[None, None, float('-inf')] for _ in range(num_outcomes)]\n",
        "        # [Bookmaker, Name, Price]\n",
        "\n",
        "        bookmakers = event.data['bookmakers']\n",
        "        for index, bookmaker in enumerate(bookmakers):\n",
        "\n",
        "            # determing the odds offered by each bookmaker\n",
        "            for outcome in range(num_outcomes):\n",
        "\n",
        "                # determining if any of the bookmaker odds are better than the current best odds\n",
        "                bookmaker_odds = float(bookmaker['markets'][FIRST]['outcomes'][outcome]['price'])\n",
        "                current_best_odds = best_odds[outcome][ODDS_INDEX]\n",
        "\n",
        "                if bookmaker_odds > current_best_odds:\n",
        "                    best_odds[outcome][BOOKMAKER_INDEX] = bookmaker['title']\n",
        "                    best_odds[outcome][NAME_INDEX] = bookmaker['markets'][FIRST]['outcomes'][outcome]['name']\n",
        "                    best_odds[outcome][ODDS_INDEX] = bookmaker_odds\n",
        "\n",
        "        self.best_odds = best_odds\n",
        "        return best_odds\n",
        "\n",
        "    def arbitrage(self):\n",
        "        total_arbitrage_percentage = 0\n",
        "        for odds in self.best_odds:\n",
        "            total_arbitrage_percentage += (1.0 / odds[ODDS_INDEX])\n",
        "\n",
        "        self.total_arbitrage_percentage = total_arbitrage_percentage\n",
        "        self.expected_earnings = (BET_SIZE / total_arbitrage_percentage) - BET_SIZE\n",
        "\n",
        "        # if the sum of the reciprocals of the odds is less than 1, there is opportunity for arbitrage\n",
        "        if total_arbitrage_percentage < 1:\n",
        "            return True\n",
        "        return False\n",
        "\n",
        "    # converts decimal/European best odds to American best odds\n",
        "    def convert_decimal_to_american(self):\n",
        "        best_odds = self.best_odds\n",
        "        for odds in best_odds:\n",
        "            decimal = odds[ODDS_INDEX]\n",
        "            if decimal >= 2:\n",
        "                american = (decimal - 1) * 100\n",
        "            elif decimal < 2:\n",
        "                american = -100 / (decimal - 1)\n",
        "            odds[ODDS_INDEX] = round(american, 2)\n",
        "        return best_odds\n",
        "\n",
        "    def calculate_arbitrage_bets(self):\n",
        "        bet_amounts = []\n",
        "        for outcome in range(self.num_outcomes):\n",
        "            individual_arbitrage_percentage = 1 / self.best_odds[outcome][ODDS_INDEX]\n",
        "            bet_amount = (BET_SIZE * individual_arbitrage_percentage) / self.total_arbitrage_percentage\n",
        "            bet_amounts.append(round(bet_amount, 2))\n",
        "\n",
        "        self.bet_amounts = bet_amounts\n",
        "        return bet_amounts"
      ]
    },
    {
      "cell_type": "markdown",
      "id": "0737847a",
      "metadata": {
        "id": "0737847a"
      },
      "source": [
        "### Parsing Events and Calculating Arbitrage Bets\n",
        "- `BET_SIZE` is the amount of money in USD that you would like to bet across the outcomes of an event.\n",
        "- This calculation will used unbiased arbitrage, where the profit is the same regardless of the outcome."
      ]
    },
    {
      "cell_type": "code",
      "execution_count": null,
      "id": "9d71f761",
      "metadata": {
        "id": "9d71f761",
        "colab": {
          "base_uri": "https://localhost:8080/"
        },
        "outputId": "5f77f7da-12b9-4cda-cf52-d56f7ecb0291"
      },
      "outputs": [
        {
          "output_type": "stream",
          "name": "stdout",
          "text": [
            "{'id': '52937650c1f4edbce02009268a033498', 'sport_key': 'soccer_portugal_primeira_liga', 'sport_title': 'Primeira Liga - Portugal', 'commence_time': '2023-01-20T21:16:06Z', 'home_team': 'Sporting Lisbon', 'away_team': 'Vizela', 'bookmakers': [{'key': 'fanduel', 'title': 'FanDuel', 'last_update': '2023-01-20T23:09:25Z', 'markets': [{'key': 'h2h', 'last_update': '2023-01-20T23:09:25Z', 'outcomes': [{'name': 'Sporting Lisbon', 'price': 1.01}, {'name': 'Vizela', 'price': 51.0}, {'name': 'Draw', 'price': 23.0}]}]}, {'key': 'draftkings', 'title': 'DraftKings', 'last_update': '2023-01-20T23:13:44Z', 'markets': [{'key': 'h2h', 'last_update': '2023-01-20T23:13:44Z', 'outcomes': [{'name': 'Sporting Lisbon', 'price': 1.0}, {'name': 'Vizela', 'price': 46.0}, {'name': 'Draw', 'price': 36.0}]}]}, {'key': 'mybookieag', 'title': 'MyBookie.ag', 'last_update': '2023-01-20T23:16:41Z', 'markets': [{'key': 'h2h', 'last_update': '2023-01-20T23:16:41Z', 'outcomes': [{'name': 'Sporting Lisbon', 'price': 3.2}, {'name': 'Vizela', 'price': 15.0}, {'name': 'Draw', 'price': 1.4}]}]}, {'key': 'sugarhouse', 'title': 'SugarHouse', 'last_update': '2023-01-20T23:07:57Z', 'markets': [{'key': 'h2h', 'last_update': '2023-01-20T23:07:57Z', 'outcomes': [{'name': 'Sporting Lisbon', 'price': 6.5}, {'name': 'Vizela', 'price': 30.0}, {'name': 'Draw', 'price': 1.15}]}]}, {'key': 'foxbet', 'title': 'FOX Bet', 'last_update': '2023-01-20T23:15:14Z', 'markets': [{'key': 'h2h', 'last_update': '2023-01-20T23:15:14Z', 'outcomes': [{'name': 'Sporting Lisbon', 'price': 1.08}, {'name': 'Vizela', 'price': 34.0}, {'name': 'Draw', 'price': 7.0}]}]}]}\n",
            "\n",
            "{'id': 'f4462ae0db5c1adbfb890c74b7e6a960', 'sport_key': 'basketball_ncaab', 'sport_title': 'NCAAB', 'commence_time': '2023-01-20T23:30:00Z', 'home_team': 'Kent State Golden Flashes', 'away_team': 'Ball State Cardinals', 'bookmakers': [{'key': 'draftkings', 'title': 'DraftKings', 'last_update': '2023-01-20T23:18:51Z', 'markets': [{'key': 'h2h', 'last_update': '2023-01-20T23:18:51Z', 'outcomes': [{'name': 'Ball State Cardinals', 'price': 4.1}, {'name': 'Kent State Golden Flashes', 'price': 1.26}]}]}, {'key': 'williamhill_us', 'title': 'William Hill (US)', 'last_update': '2023-01-20T23:18:50Z', 'markets': [{'key': 'h2h', 'last_update': '2023-01-20T23:18:50Z', 'outcomes': [{'name': 'Ball State Cardinals', 'price': 4.2}, {'name': 'Kent State Golden Flashes', 'price': 1.24}]}]}, {'key': 'betonlineag', 'title': 'BetOnline.ag', 'last_update': '2023-01-20T23:19:08Z', 'markets': [{'key': 'h2h', 'last_update': '2023-01-20T23:19:08Z', 'outcomes': [{'name': 'Ball State Cardinals', 'price': 4.0}, {'name': 'Kent State Golden Flashes', 'price': 1.27}]}]}, {'key': 'lowvig', 'title': 'LowVig.ag', 'last_update': '2023-01-20T23:18:51Z', 'markets': [{'key': 'h2h', 'last_update': '2023-01-20T23:18:51Z', 'outcomes': [{'name': 'Ball State Cardinals', 'price': 4.0}, {'name': 'Kent State Golden Flashes', 'price': 1.27}]}]}, {'key': 'bovada', 'title': 'Bovada', 'last_update': '2023-01-20T23:18:41Z', 'markets': [{'key': 'h2h', 'last_update': '2023-01-20T23:18:41Z', 'outcomes': [{'name': 'Ball State Cardinals', 'price': 3.95}, {'name': 'Kent State Golden Flashes', 'price': 1.26}]}]}, {'key': 'wynnbet', 'title': 'WynnBET', 'last_update': '2023-01-20T23:18:51Z', 'markets': [{'key': 'h2h', 'last_update': '2023-01-20T23:18:51Z', 'outcomes': [{'name': 'Ball State Cardinals', 'price': 4.05}, {'name': 'Kent State Golden Flashes', 'price': 1.25}]}]}, {'key': 'betus', 'title': 'BetUS', 'last_update': '2023-01-20T23:18:41Z', 'markets': [{'key': 'h2h', 'last_update': '2023-01-20T23:18:41Z', 'outcomes': [{'name': 'Ball State Cardinals', 'price': 3.9}, {'name': 'Kent State Golden Flashes', 'price': 1.27}]}]}, {'key': 'betmgm', 'title': 'BetMGM', 'last_update': '2023-01-20T23:18:21Z', 'markets': [{'key': 'h2h', 'last_update': '2023-01-20T23:18:21Z', 'outcomes': [{'name': 'Ball State Cardinals', 'price': 4.1}, {'name': 'Kent State Golden Flashes', 'price': 1.25}]}]}, {'key': 'pointsbetus', 'title': 'PointsBet (US)', 'last_update': '2023-01-20T23:18:41Z', 'markets': [{'key': 'h2h', 'last_update': '2023-01-20T23:18:41Z', 'outcomes': [{'name': 'Ball State Cardinals', 'price': 4.0}, {'name': 'Kent State Golden Flashes', 'price': 1.27}]}]}, {'key': 'superbook', 'title': 'SuperBook', 'last_update': '2023-01-20T23:18:52Z', 'markets': [{'key': 'h2h', 'last_update': '2023-01-20T23:18:52Z', 'outcomes': [{'name': 'Ball State Cardinals', 'price': 4.0}, {'name': 'Kent State Golden Flashes', 'price': 1.28}]}]}, {'key': 'circasports', 'title': 'Circa Sports', 'last_update': '2023-01-20T23:18:21Z', 'markets': [{'key': 'h2h', 'last_update': '2023-01-20T23:18:21Z', 'outcomes': [{'name': 'Ball State Cardinals', 'price': 4.04}, {'name': 'Kent State Golden Flashes', 'price': 1.25}]}]}, {'key': 'sugarhouse', 'title': 'SugarHouse', 'last_update': '2023-01-20T23:18:51Z', 'markets': [{'key': 'h2h', 'last_update': '2023-01-20T23:18:51Z', 'outcomes': [{'name': 'Ball State Cardinals', 'price': 3.9}, {'name': 'Kent State Golden Flashes', 'price': 1.27}]}]}, {'key': 'barstool', 'title': 'Barstool Sportsbook', 'last_update': '2023-01-20T23:19:02Z', 'markets': [{'key': 'h2h', 'last_update': '2023-01-20T23:19:02Z', 'outcomes': [{'name': 'Ball State Cardinals', 'price': 3.9}, {'name': 'Kent State Golden Flashes', 'price': 1.27}]}]}, {'key': 'twinspires', 'title': 'TwinSpires', 'last_update': '2023-01-20T23:17:58Z', 'markets': [{'key': 'h2h', 'last_update': '2023-01-20T23:17:57Z', 'outcomes': [{'name': 'Ball State Cardinals', 'price': 3.9}, {'name': 'Kent State Golden Flashes', 'price': 1.27}]}]}, {'key': 'unibet_us', 'title': 'Unibet', 'last_update': '2023-01-20T23:18:21Z', 'markets': [{'key': 'h2h', 'last_update': '2023-01-20T23:18:21Z', 'outcomes': [{'name': 'Ball State Cardinals', 'price': 3.9}, {'name': 'Kent State Golden Flashes', 'price': 1.27}]}]}, {'key': 'betrivers', 'title': 'BetRivers', 'last_update': '2023-01-20T23:18:21Z', 'markets': [{'key': 'h2h', 'last_update': '2023-01-20T23:18:21Z', 'outcomes': [{'name': 'Ball State Cardinals', 'price': 3.9}, {'name': 'Kent State Golden Flashes', 'price': 1.27}]}]}, {'key': 'foxbet', 'title': 'FOX Bet', 'last_update': '2023-01-20T23:18:51Z', 'markets': [{'key': 'h2h', 'last_update': '2023-01-20T23:18:50Z', 'outcomes': [{'name': 'Ball State Cardinals', 'price': 3.6}, {'name': 'Kent State Golden Flashes', 'price': 1.25}]}]}, {'key': 'mybookieag', 'title': 'MyBookie.ag', 'last_update': '2023-01-20T23:19:03Z', 'markets': [{'key': 'h2h', 'last_update': '2023-01-20T23:19:03Z', 'outcomes': [{'name': 'Ball State Cardinals', 'price': 4.03}, {'name': 'Kent State Golden Flashes', 'price': 1.25}]}]}]}\n",
            "\n",
            "{'id': '8bdb59f5394ca33dbeae9b1edbf5ef30', 'sport_key': 'soccer_chile_campeonato', 'sport_title': 'Primera División - Chile', 'commence_time': '2023-01-20T23:30:00Z', 'home_team': 'Unión Española', 'away_team': 'Ñublense', 'bookmakers': [{'key': 'betmgm', 'title': 'BetMGM', 'last_update': '2023-01-20T23:18:11Z', 'markets': [{'key': 'h2h', 'last_update': '2023-01-20T23:18:11Z', 'outcomes': [{'name': 'Unión Española', 'price': 2.55}, {'name': 'Ñublense', 'price': 2.55}, {'name': 'Draw', 'price': 3.4}]}]}, {'key': 'williamhill_us', 'title': 'William Hill (US)', 'last_update': '2023-01-20T23:19:00Z', 'markets': [{'key': 'h2h', 'last_update': '2023-01-20T23:19:00Z', 'outcomes': [{'name': 'Unión Española', 'price': 2.6}, {'name': 'Ñublense', 'price': 2.55}, {'name': 'Draw', 'price': 3.2}]}]}, {'key': 'betrivers', 'title': 'BetRivers', 'last_update': '2023-01-20T23:19:00Z', 'markets': [{'key': 'h2h', 'last_update': '2023-01-20T23:19:00Z', 'outcomes': [{'name': 'Unión Española', 'price': 2.75}, {'name': 'Ñublense', 'price': 2.45}, {'name': 'Draw', 'price': 3.25}]}]}, {'key': 'draftkings', 'title': 'DraftKings', 'last_update': '2023-01-20T23:19:00Z', 'markets': [{'key': 'h2h', 'last_update': '2023-01-20T23:19:00Z', 'outcomes': [{'name': 'Unión Española', 'price': 2.7}, {'name': 'Ñublense', 'price': 2.65}, {'name': 'Draw', 'price': 3.35}]}]}, {'key': 'sugarhouse', 'title': 'SugarHouse', 'last_update': '2023-01-20T23:19:00Z', 'markets': [{'key': 'h2h', 'last_update': '2023-01-20T23:19:00Z', 'outcomes': [{'name': 'Unión Española', 'price': 2.75}, {'name': 'Ñublense', 'price': 2.45}, {'name': 'Draw', 'price': 3.25}]}]}, {'key': 'bovada', 'title': 'Bovada', 'last_update': '2023-01-20T23:19:00Z', 'markets': [{'key': 'h2h', 'last_update': '2023-01-20T23:19:00Z', 'outcomes': [{'name': 'Unión Española', 'price': 2.6}, {'name': 'Ñublense', 'price': 2.65}, {'name': 'Draw', 'price': 3.25}]}]}, {'key': 'foxbet', 'title': 'FOX Bet', 'last_update': '2023-01-20T23:19:00Z', 'markets': [{'key': 'h2h', 'last_update': '2023-01-20T23:19:00Z', 'outcomes': [{'name': 'Unión Española', 'price': 2.45}, {'name': 'Ñublense', 'price': 2.45}, {'name': 'Draw', 'price': 3.1}]}]}, {'key': 'fanduel', 'title': 'FanDuel', 'last_update': '2023-01-20T23:19:00Z', 'markets': [{'key': 'h2h', 'last_update': '2023-01-20T23:19:00Z', 'outcomes': [{'name': 'Unión Española', 'price': 2.5}, {'name': 'Ñublense', 'price': 2.65}, {'name': 'Draw', 'price': 3.2}]}]}, {'key': 'betonlineag', 'title': 'BetOnline.ag', 'last_update': '2023-01-20T23:18:33Z', 'markets': [{'key': 'h2h', 'last_update': '2023-01-20T23:18:33Z', 'outcomes': [{'name': 'Unión Española', 'price': 2.47}, {'name': 'Ñublense', 'price': 2.52}, {'name': 'Draw', 'price': 3.35}]}]}]}\n",
            "\n",
            "{'id': '266ba9a86b5f99343b165ad5eec942ee', 'sport_key': 'basketball_ncaab', 'sport_title': 'NCAAB', 'commence_time': '2023-01-21T00:00:00Z', 'home_team': 'Fairfield Stags', 'away_team': 'Canisius Golden Griffins', 'bookmakers': [{'key': 'draftkings', 'title': 'DraftKings', 'last_update': '2023-01-20T23:18:51Z', 'markets': [{'key': 'h2h', 'last_update': '2023-01-20T23:18:51Z', 'outcomes': [{'name': 'Canisius Golden Griffins', 'price': 2.65}, {'name': 'Fairfield Stags', 'price': 1.51}]}]}, {'key': 'williamhill_us', 'title': 'William Hill (US)', 'last_update': '2023-01-20T23:18:50Z', 'markets': [{'key': 'h2h', 'last_update': '2023-01-20T23:18:50Z', 'outcomes': [{'name': 'Canisius Golden Griffins', 'price': 2.7}, {'name': 'Fairfield Stags', 'price': 1.49}]}]}, {'key': 'betonlineag', 'title': 'BetOnline.ag', 'last_update': '2023-01-20T23:19:08Z', 'markets': [{'key': 'h2h', 'last_update': '2023-01-20T23:19:08Z', 'outcomes': [{'name': 'Canisius Golden Griffins', 'price': 2.7}, {'name': 'Fairfield Stags', 'price': 1.51}]}]}, {'key': 'lowvig', 'title': 'LowVig.ag', 'last_update': '2023-01-20T23:18:51Z', 'markets': [{'key': 'h2h', 'last_update': '2023-01-20T23:18:51Z', 'outcomes': [{'name': 'Canisius Golden Griffins', 'price': 2.7}, {'name': 'Fairfield Stags', 'price': 1.51}]}]}, {'key': 'bovada', 'title': 'Bovada', 'last_update': '2023-01-20T23:18:41Z', 'markets': [{'key': 'h2h', 'last_update': '2023-01-20T23:18:41Z', 'outcomes': [{'name': 'Canisius Golden Griffins', 'price': 2.7}, {'name': 'Fairfield Stags', 'price': 1.5}]}]}, {'key': 'wynnbet', 'title': 'WynnBET', 'last_update': '2023-01-20T23:18:51Z', 'markets': [{'key': 'h2h', 'last_update': '2023-01-20T23:18:51Z', 'outcomes': [{'name': 'Canisius Golden Griffins', 'price': 2.7}, {'name': 'Fairfield Stags', 'price': 1.49}]}]}, {'key': 'betus', 'title': 'BetUS', 'last_update': '2023-01-20T23:18:41Z', 'markets': [{'key': 'h2h', 'last_update': '2023-01-20T23:18:41Z', 'outcomes': [{'name': 'Canisius Golden Griffins', 'price': 2.65}, {'name': 'Fairfield Stags', 'price': 1.51}]}]}, {'key': 'betmgm', 'title': 'BetMGM', 'last_update': '2023-01-20T23:18:21Z', 'markets': [{'key': 'h2h', 'last_update': '2023-01-20T23:18:21Z', 'outcomes': [{'name': 'Canisius Golden Griffins', 'price': 2.8}, {'name': 'Fairfield Stags', 'price': 1.44}]}]}, {'key': 'pointsbetus', 'title': 'PointsBet (US)', 'last_update': '2023-01-20T23:18:41Z', 'markets': [{'key': 'h2h', 'last_update': '2023-01-20T23:18:41Z', 'outcomes': [{'name': 'Canisius Golden Griffins', 'price': 2.75}, {'name': 'Fairfield Stags', 'price': 1.48}]}]}, {'key': 'superbook', 'title': 'SuperBook', 'last_update': '2023-01-20T23:18:52Z', 'markets': [{'key': 'h2h', 'last_update': '2023-01-20T23:18:52Z', 'outcomes': [{'name': 'Canisius Golden Griffins', 'price': 2.7}, {'name': 'Fairfield Stags', 'price': 1.53}]}]}, {'key': 'fanduel', 'title': 'FanDuel', 'last_update': '2023-01-20T23:19:03Z', 'markets': [{'key': 'h2h', 'last_update': '2023-01-20T23:19:03Z', 'outcomes': [{'name': 'Canisius Golden Griffins', 'price': 2.68}, {'name': 'Fairfield Stags', 'price': 1.48}]}]}, {'key': 'circasports', 'title': 'Circa Sports', 'last_update': '2023-01-20T23:18:21Z', 'markets': [{'key': 'h2h', 'last_update': '2023-01-20T23:18:21Z', 'outcomes': [{'name': 'Canisius Golden Griffins', 'price': 2.83}, {'name': 'Fairfield Stags', 'price': 1.44}]}]}, {'key': 'barstool', 'title': 'Barstool Sportsbook', 'last_update': '2023-01-20T23:19:02Z', 'markets': [{'key': 'h2h', 'last_update': '2023-01-20T23:19:02Z', 'outcomes': [{'name': 'Canisius Golden Griffins', 'price': 2.65}, {'name': 'Fairfield Stags', 'price': 1.49}]}]}, {'key': 'sugarhouse', 'title': 'SugarHouse', 'last_update': '2023-01-20T23:18:51Z', 'markets': [{'key': 'h2h', 'last_update': '2023-01-20T23:18:51Z', 'outcomes': [{'name': 'Canisius Golden Griffins', 'price': 2.65}, {'name': 'Fairfield Stags', 'price': 1.49}]}]}, {'key': 'twinspires', 'title': 'TwinSpires', 'last_update': '2023-01-20T23:17:58Z', 'markets': [{'key': 'h2h', 'last_update': '2023-01-20T23:17:57Z', 'outcomes': [{'name': 'Canisius Golden Griffins', 'price': 2.65}, {'name': 'Fairfield Stags', 'price': 1.49}]}]}, {'key': 'unibet_us', 'title': 'Unibet', 'last_update': '2023-01-20T23:18:21Z', 'markets': [{'key': 'h2h', 'last_update': '2023-01-20T23:18:21Z', 'outcomes': [{'name': 'Canisius Golden Griffins', 'price': 2.65}, {'name': 'Fairfield Stags', 'price': 1.49}]}]}, {'key': 'betrivers', 'title': 'BetRivers', 'last_update': '2023-01-20T23:18:21Z', 'markets': [{'key': 'h2h', 'last_update': '2023-01-20T23:18:21Z', 'outcomes': [{'name': 'Canisius Golden Griffins', 'price': 2.65}, {'name': 'Fairfield Stags', 'price': 1.49}]}]}, {'key': 'foxbet', 'title': 'FOX Bet', 'last_update': '2023-01-20T23:18:51Z', 'markets': [{'key': 'h2h', 'last_update': '2023-01-20T23:18:50Z', 'outcomes': [{'name': 'Canisius Golden Griffins', 'price': 2.6}, {'name': 'Fairfield Stags', 'price': 1.44}]}]}, {'key': 'mybookieag', 'title': 'MyBookie.ag', 'last_update': '2023-01-20T23:19:03Z', 'markets': [{'key': 'h2h', 'last_update': '2023-01-20T23:19:03Z', 'outcomes': [{'name': 'Canisius Golden Griffins', 'price': 2.72}, {'name': 'Fairfield Stags', 'price': 1.46}]}]}]}\n",
            "\n",
            "{'id': '44321d8bef462bf63d2b96341820385e', 'sport_key': 'basketball_ncaab', 'sport_title': 'NCAAB', 'commence_time': '2023-01-21T00:00:00Z', 'home_team': 'Wagner Seahawks', 'away_team': 'Central Connecticut St Blue Devils', 'bookmakers': [{'key': 'draftkings', 'title': 'DraftKings', 'last_update': '2023-01-20T23:18:51Z', 'markets': [{'key': 'h2h', 'last_update': '2023-01-20T23:18:51Z', 'outcomes': [{'name': 'Central Connecticut St Blue Devils', 'price': 2.6}, {'name': 'Wagner Seahawks', 'price': 1.53}]}]}, {'key': 'williamhill_us', 'title': 'William Hill (US)', 'last_update': '2023-01-20T23:18:50Z', 'markets': [{'key': 'h2h', 'last_update': '2023-01-20T23:18:50Z', 'outcomes': [{'name': 'Central Connecticut St Blue Devils', 'price': 2.7}, {'name': 'Wagner Seahawks', 'price': 1.49}]}]}, {'key': 'fanduel', 'title': 'FanDuel', 'last_update': '2023-01-20T23:19:03Z', 'markets': [{'key': 'h2h', 'last_update': '2023-01-20T23:19:03Z', 'outcomes': [{'name': 'Central Connecticut St Blue Devils', 'price': 2.72}, {'name': 'Wagner Seahawks', 'price': 1.48}]}]}, {'key': 'pointsbetus', 'title': 'PointsBet (US)', 'last_update': '2023-01-20T23:18:41Z', 'markets': [{'key': 'h2h', 'last_update': '2023-01-20T23:18:41Z', 'outcomes': [{'name': 'Central Connecticut St Blue Devils', 'price': 2.65}, {'name': 'Wagner Seahawks', 'price': 1.5}]}]}, {'key': 'sugarhouse', 'title': 'SugarHouse', 'last_update': '2023-01-20T23:18:51Z', 'markets': [{'key': 'h2h', 'last_update': '2023-01-20T23:18:51Z', 'outcomes': [{'name': 'Central Connecticut St Blue Devils', 'price': 2.7}, {'name': 'Wagner Seahawks', 'price': 1.49}]}]}, {'key': 'barstool', 'title': 'Barstool Sportsbook', 'last_update': '2023-01-20T23:19:02Z', 'markets': [{'key': 'h2h', 'last_update': '2023-01-20T23:19:02Z', 'outcomes': [{'name': 'Central Connecticut St Blue Devils', 'price': 2.7}, {'name': 'Wagner Seahawks', 'price': 1.49}]}]}, {'key': 'unibet_us', 'title': 'Unibet', 'last_update': '2023-01-20T23:18:21Z', 'markets': [{'key': 'h2h', 'last_update': '2023-01-20T23:18:21Z', 'outcomes': [{'name': 'Central Connecticut St Blue Devils', 'price': 2.65}, {'name': 'Wagner Seahawks', 'price': 1.49}]}]}, {'key': 'twinspires', 'title': 'TwinSpires', 'last_update': '2023-01-20T23:17:58Z', 'markets': [{'key': 'h2h', 'last_update': '2023-01-20T23:17:57Z', 'outcomes': [{'name': 'Central Connecticut St Blue Devils', 'price': 2.65}, {'name': 'Wagner Seahawks', 'price': 1.49}]}]}, {'key': 'betrivers', 'title': 'BetRivers', 'last_update': '2023-01-20T23:18:21Z', 'markets': [{'key': 'h2h', 'last_update': '2023-01-20T23:18:21Z', 'outcomes': [{'name': 'Central Connecticut St Blue Devils', 'price': 2.7}, {'name': 'Wagner Seahawks', 'price': 1.49}]}]}, {'key': 'bovada', 'title': 'Bovada', 'last_update': '2023-01-20T23:18:41Z', 'markets': [{'key': 'h2h', 'last_update': '2023-01-20T23:18:41Z', 'outcomes': [{'name': 'Central Connecticut St Blue Devils', 'price': 2.65}, {'name': 'Wagner Seahawks', 'price': 1.51}]}]}, {'key': 'betus', 'title': 'BetUS', 'last_update': '2023-01-20T23:18:41Z', 'markets': [{'key': 'h2h', 'last_update': '2023-01-20T23:18:41Z', 'outcomes': [{'name': 'Central Connecticut St Blue Devils', 'price': 2.65}, {'name': 'Wagner Seahawks', 'price': 1.51}]}]}, {'key': 'foxbet', 'title': 'FOX Bet', 'last_update': '2023-01-20T23:18:51Z', 'markets': [{'key': 'h2h', 'last_update': '2023-01-20T23:18:50Z', 'outcomes': [{'name': 'Central Connecticut St Blue Devils', 'price': 2.6}, {'name': 'Wagner Seahawks', 'price': 1.44}]}]}, {'key': 'superbook', 'title': 'SuperBook', 'last_update': '2023-01-20T23:18:52Z', 'markets': [{'key': 'h2h', 'last_update': '2023-01-20T23:18:52Z', 'outcomes': [{'name': 'Central Connecticut St Blue Devils', 'price': 2.7}, {'name': 'Wagner Seahawks', 'price': 1.53}]}]}, {'key': 'wynnbet', 'title': 'WynnBET', 'last_update': '2023-01-20T23:18:51Z', 'markets': [{'key': 'h2h', 'last_update': '2023-01-20T23:18:51Z', 'outcomes': [{'name': 'Central Connecticut St Blue Devils', 'price': 2.7}, {'name': 'Wagner Seahawks', 'price': 1.49}]}]}, {'key': 'betmgm', 'title': 'BetMGM', 'last_update': '2023-01-20T23:18:21Z', 'markets': [{'key': 'h2h', 'last_update': '2023-01-20T23:18:21Z', 'outcomes': [{'name': 'Central Connecticut St Blue Devils', 'price': 2.7}, {'name': 'Wagner Seahawks', 'price': 1.48}]}]}, {'key': 'mybookieag', 'title': 'MyBookie.ag', 'last_update': '2023-01-20T23:19:03Z', 'markets': [{'key': 'h2h', 'last_update': '2023-01-20T23:19:03Z', 'outcomes': [{'name': 'Central Connecticut St Blue Devils', 'price': 2.66}, {'name': 'Wagner Seahawks', 'price': 1.48}]}]}]}\n",
            "\n",
            "{'id': '437817636e0e38c051639d5b64859561', 'sport_key': 'tennis_wta_aus_open_singles', 'sport_title': 'WTA Australian Open', 'commence_time': '2023-01-21T00:00:00Z', 'home_team': 'Nuria Parrizas-Diaz', 'away_team': 'Donna Vekic', 'bookmakers': [{'key': 'betrivers', 'title': 'BetRivers', 'last_update': '2023-01-20T23:18:05Z', 'markets': [{'key': 'h2h', 'last_update': '2023-01-20T23:18:05Z', 'outcomes': [{'name': 'Donna Vekic', 'price': 1.38}, {'name': 'Nuria Parrizas-Diaz', 'price': 3.1}]}]}, {'key': 'sugarhouse', 'title': 'SugarHouse', 'last_update': '2023-01-20T23:18:05Z', 'markets': [{'key': 'h2h', 'last_update': '2023-01-20T23:18:05Z', 'outcomes': [{'name': 'Donna Vekic', 'price': 1.38}, {'name': 'Nuria Parrizas-Diaz', 'price': 3.1}]}]}, {'key': 'wynnbet', 'title': 'WynnBET', 'last_update': '2023-01-20T23:18:05Z', 'markets': [{'key': 'h2h', 'last_update': '2023-01-20T23:18:05Z', 'outcomes': [{'name': 'Donna Vekic', 'price': 1.4}, {'name': 'Nuria Parrizas-Diaz', 'price': 3.0}]}]}, {'key': 'twinspires', 'title': 'TwinSpires', 'last_update': '2023-01-20T23:18:05Z', 'markets': [{'key': 'h2h', 'last_update': '2023-01-20T23:18:05Z', 'outcomes': [{'name': 'Donna Vekic', 'price': 1.38}, {'name': 'Nuria Parrizas-Diaz', 'price': 3.1}]}]}, {'key': 'unibet_us', 'title': 'Unibet', 'last_update': '2023-01-20T23:18:06Z', 'markets': [{'key': 'h2h', 'last_update': '2023-01-20T23:18:06Z', 'outcomes': [{'name': 'Donna Vekic', 'price': 1.38}, {'name': 'Nuria Parrizas-Diaz', 'price': 3.1}]}]}, {'key': 'barstool', 'title': 'Barstool Sportsbook', 'last_update': '2023-01-20T23:18:45Z', 'markets': [{'key': 'h2h', 'last_update': '2023-01-20T23:18:45Z', 'outcomes': [{'name': 'Donna Vekic', 'price': 1.38}, {'name': 'Nuria Parrizas-Diaz', 'price': 3.1}]}]}, {'key': 'draftkings', 'title': 'DraftKings', 'last_update': '2023-01-20T23:18:05Z', 'markets': [{'key': 'h2h', 'last_update': '2023-01-20T23:18:05Z', 'outcomes': [{'name': 'Donna Vekic', 'price': 1.38}, {'name': 'Nuria Parrizas-Diaz', 'price': 3.05}]}]}, {'key': 'pointsbetus', 'title': 'PointsBet (US)', 'last_update': '2023-01-20T23:18:45Z', 'markets': [{'key': 'h2h', 'last_update': '2023-01-20T23:18:45Z', 'outcomes': [{'name': 'Donna Vekic', 'price': 1.38}, {'name': 'Nuria Parrizas-Diaz', 'price': 3.0}]}]}, {'key': 'fanduel', 'title': 'FanDuel', 'last_update': '2023-01-20T23:18:05Z', 'markets': [{'key': 'h2h', 'last_update': '2023-01-20T23:18:05Z', 'outcomes': [{'name': 'Donna Vekic', 'price': 1.4}, {'name': 'Nuria Parrizas-Diaz', 'price': 3.05}]}]}, {'key': 'mybookieag', 'title': 'MyBookie.ag', 'last_update': '2023-01-20T23:18:57Z', 'markets': [{'key': 'h2h', 'last_update': '2023-01-20T23:18:56Z', 'outcomes': [{'name': 'Donna Vekic', 'price': 1.39}, {'name': 'Nuria Parrizas-Diaz', 'price': 2.96}]}]}, {'key': 'betonlineag', 'title': 'BetOnline.ag', 'last_update': '2023-01-20T23:18:35Z', 'markets': [{'key': 'h2h', 'last_update': '2023-01-20T23:18:35Z', 'outcomes': [{'name': 'Donna Vekic', 'price': 1.4}, {'name': 'Nuria Parrizas-Diaz', 'price': 3.1}]}]}, {'key': 'lowvig', 'title': 'LowVig.ag', 'last_update': '2023-01-20T23:17:40Z', 'markets': [{'key': 'h2h', 'last_update': '2023-01-20T23:17:40Z', 'outcomes': [{'name': 'Donna Vekic', 'price': 1.4}, {'name': 'Nuria Parrizas-Diaz', 'price': 3.1}]}]}, {'key': 'bovada', 'title': 'Bovada', 'last_update': '2023-01-20T23:18:16Z', 'markets': [{'key': 'h2h', 'last_update': '2023-01-20T23:18:16Z', 'outcomes': [{'name': 'Donna Vekic', 'price': 1.4}, {'name': 'Nuria Parrizas-Diaz', 'price': 3.0}]}]}, {'key': 'betmgm', 'title': 'BetMGM', 'last_update': '2023-01-20T23:18:56Z', 'markets': [{'key': 'h2h', 'last_update': '2023-01-20T23:18:56Z', 'outcomes': [{'name': 'Donna Vekic', 'price': 1.4}, {'name': 'Nuria Parrizas-Diaz', 'price': 2.8}]}]}]}\n",
            "\n",
            "{'id': '7466fd8baf7d2ecd8a2b3013dc82a6a8', 'sport_key': 'basketball_ncaab', 'sport_title': 'NCAAB', 'commence_time': '2023-01-21T00:00:00Z', 'home_team': 'Fairleigh Dickinson Knights', 'away_team': 'Sacred Heart Pioneers', 'bookmakers': [{'key': 'barstool', 'title': 'Barstool Sportsbook', 'last_update': '2023-01-20T23:19:02Z', 'markets': [{'key': 'h2h', 'last_update': '2023-01-20T23:19:02Z', 'outcomes': [{'name': 'Fairleigh Dickinson Knights', 'price': 1.45}, {'name': 'Sacred Heart Pioneers', 'price': 2.8}]}]}, {'key': 'twinspires', 'title': 'TwinSpires', 'last_update': '2023-01-20T23:17:58Z', 'markets': [{'key': 'h2h', 'last_update': '2023-01-20T23:17:57Z', 'outcomes': [{'name': 'Fairleigh Dickinson Knights', 'price': 1.45}, {'name': 'Sacred Heart Pioneers', 'price': 2.75}]}]}, {'key': 'betrivers', 'title': 'BetRivers', 'last_update': '2023-01-20T23:18:21Z', 'markets': [{'key': 'h2h', 'last_update': '2023-01-20T23:18:21Z', 'outcomes': [{'name': 'Fairleigh Dickinson Knights', 'price': 1.45}, {'name': 'Sacred Heart Pioneers', 'price': 2.8}]}]}, {'key': 'bovada', 'title': 'Bovada', 'last_update': '2023-01-20T23:18:41Z', 'markets': [{'key': 'h2h', 'last_update': '2023-01-20T23:18:41Z', 'outcomes': [{'name': 'Fairleigh Dickinson Knights', 'price': 1.45}, {'name': 'Sacred Heart Pioneers', 'price': 2.8}]}]}, {'key': 'betus', 'title': 'BetUS', 'last_update': '2023-01-20T23:18:41Z', 'markets': [{'key': 'h2h', 'last_update': '2023-01-20T23:18:41Z', 'outcomes': [{'name': 'Fairleigh Dickinson Knights', 'price': 1.48}, {'name': 'Sacred Heart Pioneers', 'price': 2.75}]}]}, {'key': 'superbook', 'title': 'SuperBook', 'last_update': '2023-01-20T23:18:52Z', 'markets': [{'key': 'h2h', 'last_update': '2023-01-20T23:18:52Z', 'outcomes': [{'name': 'Fairleigh Dickinson Knights', 'price': 1.47}, {'name': 'Sacred Heart Pioneers', 'price': 2.85}]}]}, {'key': 'wynnbet', 'title': 'WynnBET', 'last_update': '2023-01-20T23:18:51Z', 'markets': [{'key': 'h2h', 'last_update': '2023-01-20T23:18:51Z', 'outcomes': [{'name': 'Fairleigh Dickinson Knights', 'price': 1.45}, {'name': 'Sacred Heart Pioneers', 'price': 2.8}]}]}, {'key': 'mybookieag', 'title': 'MyBookie.ag', 'last_update': '2023-01-20T23:19:03Z', 'markets': [{'key': 'h2h', 'last_update': '2023-01-20T23:19:03Z', 'outcomes': [{'name': 'Fairleigh Dickinson Knights', 'price': 1.44}, {'name': 'Sacred Heart Pioneers', 'price': 2.82}]}]}]}\n",
            "\n",
            "{'id': '91a79dabae5a8f90c9f5f39242bfcef8', 'sport_key': 'basketball_ncaab', 'sport_title': 'NCAAB', 'commence_time': '2023-01-21T00:00:00Z', 'home_team': 'Manhattan Jaspers', 'away_team': 'Iona Gaels', 'bookmakers': [{'key': 'draftkings', 'title': 'DraftKings', 'last_update': '2023-01-20T23:18:51Z', 'markets': [{'key': 'h2h', 'last_update': '2023-01-20T23:18:51Z', 'outcomes': [{'name': 'Iona Gaels', 'price': 1.1}, {'name': 'Manhattan Jaspers', 'price': 8.0}]}]}, {'key': 'williamhill_us', 'title': 'William Hill (US)', 'last_update': '2023-01-20T23:18:50Z', 'markets': [{'key': 'h2h', 'last_update': '2023-01-20T23:18:50Z', 'outcomes': [{'name': 'Iona Gaels', 'price': 1.09}, {'name': 'Manhattan Jaspers', 'price': 8.0}]}]}, {'key': 'betonlineag', 'title': 'BetOnline.ag', 'last_update': '2023-01-20T23:19:08Z', 'markets': [{'key': 'h2h', 'last_update': '2023-01-20T23:19:08Z', 'outcomes': [{'name': 'Iona Gaels', 'price': 1.09}, {'name': 'Manhattan Jaspers', 'price': 8.0}]}]}, {'key': 'lowvig', 'title': 'LowVig.ag', 'last_update': '2023-01-20T23:18:51Z', 'markets': [{'key': 'h2h', 'last_update': '2023-01-20T23:18:51Z', 'outcomes': [{'name': 'Iona Gaels', 'price': 1.09}, {'name': 'Manhattan Jaspers', 'price': 8.0}]}]}, {'key': 'bovada', 'title': 'Bovada', 'last_update': '2023-01-20T23:18:41Z', 'markets': [{'key': 'h2h', 'last_update': '2023-01-20T23:18:41Z', 'outcomes': [{'name': 'Iona Gaels', 'price': 1.08}, {'name': 'Manhattan Jaspers', 'price': 8.25}]}]}, {'key': 'wynnbet', 'title': 'WynnBET', 'last_update': '2023-01-20T23:18:51Z', 'markets': [{'key': 'h2h', 'last_update': '2023-01-20T23:18:51Z', 'outcomes': [{'name': 'Iona Gaels', 'price': 1.08}, {'name': 'Manhattan Jaspers', 'price': 8.35}]}]}, {'key': 'betus', 'title': 'BetUS', 'last_update': '2023-01-20T23:18:41Z', 'markets': [{'key': 'h2h', 'last_update': '2023-01-20T23:18:41Z', 'outcomes': [{'name': 'Iona Gaels', 'price': 1.1}, {'name': 'Manhattan Jaspers', 'price': 7.85}]}]}, {'key': 'pointsbetus', 'title': 'PointsBet (US)', 'last_update': '2023-01-20T23:18:41Z', 'markets': [{'key': 'h2h', 'last_update': '2023-01-20T23:18:41Z', 'outcomes': [{'name': 'Iona Gaels', 'price': 1.09}, {'name': 'Manhattan Jaspers', 'price': 8.0}]}]}, {'key': 'betmgm', 'title': 'BetMGM', 'last_update': '2023-01-20T23:18:21Z', 'markets': [{'key': 'h2h', 'last_update': '2023-01-20T23:18:21Z', 'outcomes': [{'name': 'Iona Gaels', 'price': 1.09}, {'name': 'Manhattan Jaspers', 'price': 7.75}]}]}, {'key': 'superbook', 'title': 'SuperBook', 'last_update': '2023-01-20T23:18:52Z', 'markets': [{'key': 'h2h', 'last_update': '2023-01-20T23:18:52Z', 'outcomes': [{'name': 'Iona Gaels', 'price': 1.09}, {'name': 'Manhattan Jaspers', 'price': 8.0}]}]}, {'key': 'circasports', 'title': 'Circa Sports', 'last_update': '2023-01-20T23:18:21Z', 'markets': [{'key': 'h2h', 'last_update': '2023-01-20T23:18:21Z', 'outcomes': [{'name': 'Iona Gaels', 'price': 1.07}, {'name': 'Manhattan Jaspers', 'price': 8.51}]}]}, {'key': 'sugarhouse', 'title': 'SugarHouse', 'last_update': '2023-01-20T23:18:51Z', 'markets': [{'key': 'h2h', 'last_update': '2023-01-20T23:18:51Z', 'outcomes': [{'name': 'Iona Gaels', 'price': 1.08}, {'name': 'Manhattan Jaspers', 'price': 8.5}]}]}, {'key': 'twinspires', 'title': 'TwinSpires', 'last_update': '2023-01-20T23:17:58Z', 'markets': [{'key': 'h2h', 'last_update': '2023-01-20T23:17:57Z', 'outcomes': [{'name': 'Iona Gaels', 'price': 1.08}, {'name': 'Manhattan Jaspers', 'price': 8.0}]}]}, {'key': 'unibet_us', 'title': 'Unibet', 'last_update': '2023-01-20T23:18:21Z', 'markets': [{'key': 'h2h', 'last_update': '2023-01-20T23:18:21Z', 'outcomes': [{'name': 'Iona Gaels', 'price': 1.08}, {'name': 'Manhattan Jaspers', 'price': 8.0}]}]}, {'key': 'barstool', 'title': 'Barstool Sportsbook', 'last_update': '2023-01-20T23:19:02Z', 'markets': [{'key': 'h2h', 'last_update': '2023-01-20T23:19:02Z', 'outcomes': [{'name': 'Iona Gaels', 'price': 1.08}, {'name': 'Manhattan Jaspers', 'price': 8.5}]}]}, {'key': 'betrivers', 'title': 'BetRivers', 'last_update': '2023-01-20T23:18:21Z', 'markets': [{'key': 'h2h', 'last_update': '2023-01-20T23:18:21Z', 'outcomes': [{'name': 'Iona Gaels', 'price': 1.08}, {'name': 'Manhattan Jaspers', 'price': 8.5}]}]}, {'key': 'foxbet', 'title': 'FOX Bet', 'last_update': '2023-01-20T23:18:51Z', 'markets': [{'key': 'h2h', 'last_update': '2023-01-20T23:18:50Z', 'outcomes': [{'name': 'Iona Gaels', 'price': 1.09}, {'name': 'Manhattan Jaspers', 'price': 6.0}]}]}, {'key': 'mybookieag', 'title': 'MyBookie.ag', 'last_update': '2023-01-20T23:19:03Z', 'markets': [{'key': 'h2h', 'last_update': '2023-01-20T23:19:03Z', 'outcomes': [{'name': 'Iona Gaels', 'price': 1.1}, {'name': 'Manhattan Jaspers', 'price': 7.25}]}]}]}\n",
            "\n",
            "{'id': 'ec3f1c708b0edcac32a61b003753cee4', 'sport_key': 'tennis_wta_aus_open_singles', 'sport_title': 'WTA Australian Open', 'commence_time': '2023-01-21T00:00:00Z', 'home_team': 'Varvara Gracheva', 'away_team': 'Karolina Pliskova', 'bookmakers': [{'key': 'betrivers', 'title': 'BetRivers', 'last_update': '2023-01-20T23:18:05Z', 'markets': [{'key': 'h2h', 'last_update': '2023-01-20T23:18:05Z', 'outcomes': [{'name': 'Karolina Pliskova', 'price': 1.28}, {'name': 'Varvara Gracheva', 'price': 3.75}]}]}, {'key': 'wynnbet', 'title': 'WynnBET', 'last_update': '2023-01-20T23:18:05Z', 'markets': [{'key': 'h2h', 'last_update': '2023-01-20T23:18:05Z', 'outcomes': [{'name': 'Karolina Pliskova', 'price': 1.27}, {'name': 'Varvara Gracheva', 'price': 3.8}]}]}, {'key': 'twinspires', 'title': 'TwinSpires', 'last_update': '2023-01-20T23:18:05Z', 'markets': [{'key': 'h2h', 'last_update': '2023-01-20T23:18:05Z', 'outcomes': [{'name': 'Karolina Pliskova', 'price': 1.28}, {'name': 'Varvara Gracheva', 'price': 3.75}]}]}, {'key': 'unibet_us', 'title': 'Unibet', 'last_update': '2023-01-20T23:18:06Z', 'markets': [{'key': 'h2h', 'last_update': '2023-01-20T23:18:06Z', 'outcomes': [{'name': 'Karolina Pliskova', 'price': 1.28}, {'name': 'Varvara Gracheva', 'price': 3.75}]}]}, {'key': 'barstool', 'title': 'Barstool Sportsbook', 'last_update': '2023-01-20T23:18:45Z', 'markets': [{'key': 'h2h', 'last_update': '2023-01-20T23:18:45Z', 'outcomes': [{'name': 'Karolina Pliskova', 'price': 1.28}, {'name': 'Varvara Gracheva', 'price': 3.75}]}]}, {'key': 'sugarhouse', 'title': 'SugarHouse', 'last_update': '2023-01-20T23:18:05Z', 'markets': [{'key': 'h2h', 'last_update': '2023-01-20T23:18:05Z', 'outcomes': [{'name': 'Karolina Pliskova', 'price': 1.28}, {'name': 'Varvara Gracheva', 'price': 3.75}]}]}, {'key': 'draftkings', 'title': 'DraftKings', 'last_update': '2023-01-20T23:18:05Z', 'markets': [{'key': 'h2h', 'last_update': '2023-01-20T23:18:05Z', 'outcomes': [{'name': 'Karolina Pliskova', 'price': 1.28}, {'name': 'Varvara Gracheva', 'price': 3.8}]}]}, {'key': 'pointsbetus', 'title': 'PointsBet (US)', 'last_update': '2023-01-20T23:18:45Z', 'markets': [{'key': 'h2h', 'last_update': '2023-01-20T23:18:45Z', 'outcomes': [{'name': 'Karolina Pliskova', 'price': 1.27}, {'name': 'Varvara Gracheva', 'price': 3.8}]}]}, {'key': 'fanduel', 'title': 'FanDuel', 'last_update': '2023-01-20T23:18:05Z', 'markets': [{'key': 'h2h', 'last_update': '2023-01-20T23:18:05Z', 'outcomes': [{'name': 'Karolina Pliskova', 'price': 1.29}, {'name': 'Varvara Gracheva', 'price': 3.8}]}]}, {'key': 'mybookieag', 'title': 'MyBookie.ag', 'last_update': '2023-01-20T23:18:57Z', 'markets': [{'key': 'h2h', 'last_update': '2023-01-20T23:18:56Z', 'outcomes': [{'name': 'Karolina Pliskova', 'price': 1.27}, {'name': 'Varvara Gracheva', 'price': 3.65}]}]}, {'key': 'lowvig', 'title': 'LowVig.ag', 'last_update': '2023-01-20T23:17:40Z', 'markets': [{'key': 'h2h', 'last_update': '2023-01-20T23:17:40Z', 'outcomes': [{'name': 'Karolina Pliskova', 'price': 1.3}, {'name': 'Varvara Gracheva', 'price': 3.75}]}]}, {'key': 'betonlineag', 'title': 'BetOnline.ag', 'last_update': '2023-01-20T23:18:35Z', 'markets': [{'key': 'h2h', 'last_update': '2023-01-20T23:18:35Z', 'outcomes': [{'name': 'Karolina Pliskova', 'price': 1.3}, {'name': 'Varvara Gracheva', 'price': 3.75}]}]}, {'key': 'foxbet', 'title': 'FOX Bet', 'last_update': '2023-01-20T23:18:05Z', 'markets': [{'key': 'h2h', 'last_update': '2023-01-20T23:18:05Z', 'outcomes': [{'name': 'Karolina Pliskova', 'price': 1.28}, {'name': 'Varvara Gracheva', 'price': 3.5}]}]}, {'key': 'bovada', 'title': 'Bovada', 'last_update': '2023-01-20T23:18:16Z', 'markets': [{'key': 'h2h', 'last_update': '2023-01-20T23:18:16Z', 'outcomes': [{'name': 'Karolina Pliskova', 'price': 1.29}, {'name': 'Varvara Gracheva', 'price': 3.75}]}]}, {'key': 'betmgm', 'title': 'BetMGM', 'last_update': '2023-01-20T23:18:56Z', 'markets': [{'key': 'h2h', 'last_update': '2023-01-20T23:18:56Z', 'outcomes': [{'name': 'Karolina Pliskova', 'price': 1.27}, {'name': 'Varvara Gracheva', 'price': 3.7}]}]}]}\n",
            "\n"
          ]
        }
      ],
      "source": [
        "events = []\n",
        "for data in odds_response:\n",
        "    events.append(Event(data))\n",
        "    print(data)\n",
        "    print()\n",
        "\n",
        "arbitrage_events = []\n",
        "for event in events:\n",
        "    best_odds = event.find_best_odds()\n",
        "    if event.arbitrage():\n",
        "        arbitrage_events.append(event)\n",
        "\n",
        "for event in arbitrage_events:\n",
        "    event.calculate_arbitrage_bets()\n",
        "    event.convert_decimal_to_american()"
      ]
    },
    {
      "cell_type": "markdown",
      "id": "4cf86515",
      "metadata": {
        "id": "4cf86515"
      },
      "source": [
        "### Creating Dataframe and Writing to Excel File"
      ]
    },
    {
      "cell_type": "code",
      "execution_count": null,
      "id": "bdc8da60",
      "metadata": {
        "id": "bdc8da60"
      },
      "outputs": [],
      "source": [
        "MAX_OUTCOMES = max([event.num_outcomes for event in arbitrage_events])\n",
        "ARBITRAGE_EVENTS_COUNT = len(arbitrage_events)\n",
        "\n",
        "my_columns = ['ID', 'Sport Key', 'Expected Earnings'] + list(np.array([[f'Bookmaker #{outcome}', f'Name #{outcome}', f'Odds #{outcome}', f'Amount to Buy #{outcome}'] for outcome in range(1, MAX_OUTCOMES + 1)]).flatten())\n",
        "dataframe = pd.DataFrame(columns=my_columns)"
      ]
    },
    {
      "cell_type": "code",
      "execution_count": null,
      "id": "1976164f",
      "metadata": {
        "id": "1976164f"
      },
      "outputs": [],
      "source": [
        "for event in arbitrage_events:\n",
        "    # print(event.best_odds)\n",
        "    row = []\n",
        "    row.append(event.id)\n",
        "    row.append(event.sport_key)\n",
        "    row.append(round(event.expected_earnings, 2))\n",
        "    for index, outcome in enumerate(event.best_odds):\n",
        "        row.append(outcome[BOOKMAKER_INDEX])\n",
        "        row.append(outcome[NAME_INDEX])\n",
        "        row.append(outcome[ODDS_INDEX])\n",
        "        row.append(event.bet_amounts[index])\n",
        "    while len(row) < len(dataframe.columns):\n",
        "        row.append('N/A')\n",
        "    dataframe.loc[len(dataframe.index)] = row"
      ]
    },
    {
      "cell_type": "code",
      "execution_count": null,
      "id": "9aacaf0d",
      "metadata": {
        "id": "9aacaf0d"
      },
      "outputs": [],
      "source": [
        "writer = pd.ExcelWriter('bets.xlsx')\n",
        "dataframe.to_excel(writer, index=False)\n",
        "writer.save()"
      ]
    },
    {
      "cell_type": "markdown",
      "id": "84aa0611",
      "metadata": {
        "id": "84aa0611"
      },
      "source": [
        "### Formatting the Excel File"
      ]
    },
    {
      "cell_type": "code",
      "execution_count": null,
      "id": "917c28ca",
      "metadata": {
        "id": "917c28ca"
      },
      "outputs": [],
      "source": [
        "BLACK = '000000'\n",
        "LIGHT_GREY = 'D6D6D6'\n",
        "DARK_GREY = '9F9F9F'\n",
        "RED = 'FEA0A0'\n",
        "BLUE = 'A0CEFE'\n",
        "YELLOW = 'FFE540'\n",
        "\n",
        "COLORS = [RED, BLUE]\n",
        "\n",
        "ID_COLUMN_FILL = PatternFill(fill_type='solid', start_color=DARK_GREY, end_color=DARK_GREY)\n",
        "SPORT_KEY_COLUMN_FILL = PatternFill(fill_type='solid', start_color=LIGHT_GREY, end_color=LIGHT_GREY)\n",
        "EXPECTED_EARNINGS_COLUMN_FILL = PatternFill(fill_type='solid', start_color=YELLOW, end_color=YELLOW)\n",
        "\n",
        "CENTER_ALIGNMENT = Alignment(horizontal='center', vertical='bottom', indent=0)\n",
        "\n",
        "TOP_ROW_BORDER = Border(bottom=Side(border_style='thick', color=BLACK))\n",
        "NORMAL_ROW_BORDER = Border(top=Side(border_style='thin', color=LIGHT_GREY), bottom=Side(border_style='thin', color=DARK_GREY))\n",
        "\n",
        "wb = load_workbook('bets.xlsx')\n",
        "ws = wb.active\n",
        "ws.title = 'Upcoming'\n",
        "# changing width\n",
        "for col in range(1, 26):\n",
        "    ws.column_dimensions[chr(col + 64)].width = 20\n",
        "\n",
        "for cell in ws['A']:\n",
        "    cell.fill = ID_COLUMN_FILL\n",
        "    cell.alignment = CENTER_ALIGNMENT\n",
        "\n",
        "for cell in ws['B']:\n",
        "    cell.fill = SPORT_KEY_COLUMN_FILL\n",
        "    cell.alignment = CENTER_ALIGNMENT\n",
        "\n",
        "for cell in ws['C']:\n",
        "    cell.fill = EXPECTED_EARNINGS_COLUMN_FILL\n",
        "    cell.alignment = CENTER_ALIGNMENT\n",
        "    cell.number_format = numbers.BUILTIN_FORMATS[7]\n",
        "\n",
        "START_INDEX = 'D'\n",
        "for index in range(MAX_OUTCOMES):\n",
        "    for col in ws[START_INDEX : chr(ord(START_INDEX) + 3)]:\n",
        "        for cell in col:\n",
        "            color = COLORS[int(index % 2)]\n",
        "            cell.fill = PatternFill(fill_type='solid', start_color=color, end_color=color)\n",
        "            cell.alignment = CENTER_ALIGNMENT\n",
        "            if cell.column % 4 == 3:\n",
        "                cell.number_format = numbers.BUILTIN_FORMATS[7]\n",
        "\n",
        "    START_INDEX = chr(ord(START_INDEX) + 4)\n",
        "\n",
        "for cell in ws['1']:\n",
        "    cell.border = TOP_ROW_BORDER\n",
        "\n",
        "for row in range(2, ARBITRAGE_EVENTS_COUNT + 2):\n",
        "    for cell in ws[str(row)]:\n",
        "        cell.border = NORMAL_ROW_BORDER\n",
        "\n",
        "wb.save('upcoming_events_bets.xlsx')"
      ]
    },
    {
      "cell_type": "code",
      "execution_count": null,
      "id": "06858b4a",
      "metadata": {
        "id": "06858b4a"
      },
      "outputs": [],
      "source": []
    }
  ],
  "metadata": {
    "kernelspec": {
      "display_name": "Python 3 (ipykernel)",
      "language": "python",
      "name": "python3"
    },
    "language_info": {
      "codemirror_mode": {
        "name": "ipython",
        "version": 3
      },
      "file_extension": ".py",
      "mimetype": "text/x-python",
      "name": "python",
      "nbconvert_exporter": "python",
      "pygments_lexer": "ipython3",
      "version": "3.9.7"
    },
    "colab": {
      "provenance": [],
      "include_colab_link": true
    }
  },
  "nbformat": 4,
  "nbformat_minor": 5
}